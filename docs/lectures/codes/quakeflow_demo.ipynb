{
 "cells": [
  {
   "cell_type": "markdown",
   "metadata": {},
   "source": [
    "# QuakeFlow demo"
   ]
  },
  {
   "cell_type": "code",
   "execution_count": 1,
   "metadata": {},
   "outputs": [],
   "source": [
    "import os\n",
    "root_path = \"./QuakeFlow/slurm/\"\n",
    "def run(root_path, script):\n",
    "    cmd = f\"cd {root_path} && python {script}\"\n",
    "    print(cmd)\n",
    "    os.system(cmd)"
   ]
  },
  {
   "cell_type": "markdown",
   "metadata": {},
   "source": [
    "### Set configuration parameters\n",
    "\n",
    "**Edit the [config.json](./QuakeFlow/slurm/config.json) file to add parameters of studying region**\n",
    "\n",
    "**Edit the [set_config.py](./QuakeFlow/slurm/set_config.py) file to select the studying region**"
   ]
  },
  {
   "cell_type": "code",
   "execution_count": 2,
   "metadata": {},
   "outputs": [
    {
     "name": "stdout",
     "output_type": "stream",
     "text": [
      "cd ./QuakeFlow/slurm/ && python set_config.py\n",
      "{\n",
      "    \"num_nodes\": 1,\n",
      "    \"sampling_rate\": 100,\n",
      "    \"degree2km\": 111.1949,\n",
      "    \"channel\": \"HH*,BH*,EH*,HN*\",\n",
      "    \"level\": \"response\",\n",
      "    \"gamma\": {\n",
      "        \"zmin_km\": 0,\n",
      "        \"zmax_km\": 60\n",
      "    },\n",
      "    \"cctorch\": {\n",
      "        \"sampling_rate\": 100,\n",
      "        \"time_before\": 0.25,\n",
      "        \"time_after\": 1.0,\n",
      "        \"components\": \"ENZ123\",\n",
      "        \"component_mapping\": {\n",
      "            \"3\": 0,\n",
      "            \"2\": 1,\n",
      "            \"1\": 2,\n",
      "            \"E\": 0,\n",
      "            \"N\": 1,\n",
      "            \"Z\": 2\n",
      "        }\n",
      "    },\n",
      "    \"longitude0\": -117.504,\n",
      "    \"latitude0\": 35.705,\n",
      "    \"maxradius_degree\": 0.5,\n",
      "    \"minlatitude\": 35.205,\n",
      "    \"maxlatitude\": 36.205,\n",
      "    \"minlongitude\": -118.004,\n",
      "    \"maxlongitude\": -117.004,\n",
      "    \"starttime\": \"2019-07-04T17:00:00\",\n",
      "    \"endtime\": \"2019-07-04T19:00:00\",\n",
      "    \"provider\": [\n",
      "        \"SCEDC\",\n",
      "        \"IRIS\"\n",
      "    ],\n",
      "    \"network\": \"CI\"\n",
      "}\n"
     ]
    }
   ],
   "source": [
    "run(root_path, \"set_config.py\")"
   ]
  },
  {
   "cell_type": "markdown",
   "metadata": {},
   "source": [
    "### Download stations and events\n",
    "\n",
    "**Edit the [download_station.py](./QuakeFlow/slurm/download_station.py) file to select the studying region**\n",
    "\n",
    "**Edit the [download_catalog.py](./QuakeFlow/slurm/download_catalog.py) file to select the studying region**"
   ]
  },
  {
   "cell_type": "code",
   "execution_count": 3,
   "metadata": {},
   "outputs": [
    {
     "name": "stdout",
     "output_type": "stream",
     "text": [
      "cd ./QuakeFlow/slurm/ && python download_station.py\n",
      "{\n",
      "    \"num_nodes\": 1,\n",
      "    \"sampling_rate\": 100,\n",
      "    \"degree2km\": 111.1949,\n",
      "    \"channel\": \"HH*,BH*,EH*,HN*\",\n",
      "    \"level\": \"response\",\n",
      "    \"gamma\": {\n",
      "        \"zmin_km\": 0,\n",
      "        \"zmax_km\": 60\n",
      "    },\n",
      "    \"cctorch\": {\n",
      "        \"sampling_rate\": 100,\n",
      "        \"time_before\": 0.25,\n",
      "        \"time_after\": 1.0,\n",
      "        \"components\": \"ENZ123\",\n",
      "        \"component_mapping\": {\n",
      "            \"3\": 0,\n",
      "            \"2\": 1,\n",
      "            \"1\": 2,\n",
      "            \"E\": 0,\n",
      "            \"N\": 1,\n",
      "            \"Z\": 2\n",
      "        }\n",
      "    },\n",
      "    \"longitude0\": -117.504,\n",
      "    \"latitude0\": 35.705,\n",
      "    \"maxradius_degree\": 0.5,\n",
      "    \"minlatitude\": 35.205,\n",
      "    \"maxlatitude\": 36.205,\n",
      "    \"minlongitude\": -118.004,\n",
      "    \"maxlongitude\": -117.004,\n",
      "    \"starttime\": \"2019-07-04T17:00:00\",\n",
      "    \"endtime\": \"2019-07-04T19:00:00\",\n",
      "    \"provider\": [\n",
      "        \"SCEDC\",\n",
      "        \"IRIS\"\n",
      "    ],\n",
      "    \"network\": \"CI\"\n",
      "}\n",
      "Downloading station response...\n",
      "Parse 150 channels of SCEDC into csv\n",
      "Parse 52 stations of SCEDC into json\n",
      "Parse 150 channels of IRIS into csv\n",
      "Parse 52 stations of IRIS into json\n",
      "Merged 150 channels\n",
      "Merged 52 stations\n",
      "cd ./QuakeFlow/slurm/ && python download_catalog.py\n",
      "{\n",
      "    \"num_nodes\": 1,\n",
      "    \"sampling_rate\": 100,\n",
      "    \"degree2km\": 111.1949,\n",
      "    \"channel\": \"HH*,BH*,EH*,HN*\",\n",
      "    \"level\": \"response\",\n",
      "    \"gamma\": {\n",
      "        \"zmin_km\": 0,\n",
      "        \"zmax_km\": 60\n",
      "    },\n",
      "    \"cctorch\": {\n",
      "        \"sampling_rate\": 100,\n",
      "        \"time_before\": 0.25,\n",
      "        \"time_after\": 1.0,\n",
      "        \"components\": \"ENZ123\",\n",
      "        \"component_mapping\": {\n",
      "            \"3\": 0,\n",
      "            \"2\": 1,\n",
      "            \"1\": 2,\n",
      "            \"E\": 0,\n",
      "            \"N\": 1,\n",
      "            \"Z\": 2\n",
      "        }\n",
      "    },\n",
      "    \"longitude0\": -117.504,\n",
      "    \"latitude0\": 35.705,\n",
      "    \"maxradius_degree\": 0.5,\n",
      "    \"minlatitude\": 35.205,\n",
      "    \"maxlatitude\": 36.205,\n",
      "    \"minlongitude\": -118.004,\n",
      "    \"maxlongitude\": -117.004,\n",
      "    \"starttime\": \"2019-07-04T17:00:00\",\n",
      "    \"endtime\": \"2019-07-04T19:00:00\",\n",
      "    \"provider\": [\n",
      "        \"SCEDC\",\n",
      "        \"IRIS\"\n",
      "    ],\n",
      "    \"network\": \"CI\"\n",
      "}\n",
      "Downloading standard catalog...\n",
      "Dowloaded 252 events from scedc\n",
      "Dowloaded 77 events from iris\n"
     ]
    }
   ],
   "source": [
    "run(root_path, \"download_station.py\")\n",
    "\n",
    "run(root_path, \"download_catalog.py\")"
   ]
  },
  {
   "cell_type": "markdown",
   "metadata": {},
   "source": [
    "### Download continuous waveform data\n",
    "\n",
    "**Edit the [download_waveform_v2.py](./QuakeFlow/slurm/download_waveform_v2.py) file to select the studying region**"
   ]
  },
  {
   "cell_type": "code",
   "execution_count": 4,
   "metadata": {},
   "outputs": [
    {
     "name": "stdout",
     "output_type": "stream",
     "text": [
      "cd ./QuakeFlow/slurm/ && python download_waveform_v2.py\n",
      "Downloading from http://service.scedc.caltech.edu: 2019-07-04T17:00:00 - 2019-07-04T18:00:00 150 traces\n",
      "Downloading from http://service.scedc.caltech.edu: 2019-07-04T18:00:00 - 2019-07-04T19:00:00 150 traces\n",
      "Already downloaded from http://service.iris.edu: 2019-07-04T17:00:00 - 2019-07-04T18:00:00\n",
      "Already downloaded from http://service.iris.edu: 2019-07-04T18:00:00 - 2019-07-04T19:00:00\n"
     ]
    }
   ],
   "source": [
    "run(root_path, \"download_waveform_v2.py\")"
   ]
  },
  {
   "cell_type": "markdown",
   "metadata": {},
   "source": [
    "### Run Phase Picking: PhaseNet\n",
    "\n",
    "**Edit the [run_phasenet.py](./QuakeFlow/slurm/run_phasenet.py) file to select the studying region**"
   ]
  },
  {
   "cell_type": "code",
   "execution_count": 5,
   "metadata": {},
   "outputs": [
    {
     "name": "stdout",
     "output_type": "stream",
     "text": [
      "cd ./QuakeFlow/slurm/ && python run_phasenet.py\n"
     ]
    },
    {
     "name": "stderr",
     "output_type": "stream",
     "text": [
      "2023-10-01 21:56:14,288 Pred log: local/demo/phasenet\n",
      "2023-10-01 21:56:14,288 Dataset size: 90\n",
      "2023-10-01 21:56:14,340 Model: depths 5, filters 8, filter size 7x1, pool size: 4x1, dilation rate: 1x1\n",
      "2023-10-01 21:56:15.109978: I tensorflow/compiler/mlir/mlir_graph_optimization_pass.cc:375] MLIR V1 optimization pass is not enabled\n",
      "2023-10-01 21:56:15,253 restoring model ../PhaseNet//model/190703-214543/model_95.ckpt\n",
      "Pred:   0%|          | 0/90 [00:00<?, ?it/s]2023-10-01 21:56:15,649 Resampling CI.CCC..BHE from 40.0 to 100 Hz\n",
      "2023-10-01 21:56:15,800 Resampling CI.CCC..BHN from 40.0 to 100 Hz\n",
      "2023-10-01 21:56:15,808 Resampling CI.CCC..BHZ from 40.0 to 100 Hz\n",
      "2023-10-01 21:56:15,853 Resampling CI.CLC..BHE from 40.0 to 100 Hz\n",
      "2023-10-01 21:56:15,862 Resampling CI.CLC..BHN from 40.0 to 100 Hz\n",
      "2023-10-01 21:56:15,872 Resampling CI.CLC..BHZ from 40.0 to 100 Hz\n",
      "Pred:   1%|          | 1/90 [00:00<00:53,  1.66it/s]2023-10-01 21:56:15,992 Resampling CI.DTP..BHE from 40.0 to 100 Hz\n",
      "2023-10-01 21:56:16,002 Resampling CI.DTP..BHN from 40.0 to 100 Hz\n",
      "2023-10-01 21:56:16,012 Resampling CI.DTP..BHZ from 40.0 to 100 Hz\n",
      "Pred:   3%|▎         | 3/90 [00:00<00:17,  4.86it/s]2023-10-01 21:56:16,134 Resampling CI.JRC2..BHE from 40.0 to 100 Hz\n",
      "2023-10-01 21:56:16,143 Resampling CI.JRC2..BHN from 40.0 to 100 Hz\n",
      "2023-10-01 21:56:16,152 Resampling CI.JRC2..BHZ from 40.0 to 100 Hz\n",
      "Pred:   8%|▊         | 7/90 [00:01<00:08,  9.54it/s]2023-10-01 21:56:16,333 Resampling CI.LRL..BHE from 40.0 to 100 Hz\n",
      "2023-10-01 21:56:16,341 Resampling CI.LRL..BHN from 40.0 to 100 Hz\n",
      "2023-10-01 21:56:16,351 Resampling CI.LRL..BHZ from 40.0 to 100 Hz\n",
      "Pred:  10%|█         | 9/90 [00:01<00:07, 11.19it/s]2023-10-01 21:56:16,516 Resampling CI.MPM..BHE from 40.0 to 100 Hz\n",
      "2023-10-01 21:56:16,524 Resampling CI.MPM..BHN from 40.0 to 100 Hz\n",
      "2023-10-01 21:56:16,533 Resampling CI.MPM..BHZ from 40.0 to 100 Hz\n",
      "Pred:  14%|█▍        | 13/90 [00:01<00:05, 13.12it/s]2023-10-01 21:56:16,721 Resampling CI.SLA..BHE from 40.0 to 100 Hz\n",
      "2023-10-01 21:56:16,730 Resampling CI.SLA..BHN from 40.0 to 100 Hz\n",
      "2023-10-01 21:56:16,738 Resampling CI.SLA..BHZ from 40.0 to 100 Hz\n",
      "Pred:  17%|█▋        | 15/90 [00:01<00:05, 13.67it/s]2023-10-01 21:56:16,916 Resampling CI.SRT..BHE from 40.0 to 100 Hz\n",
      "2023-10-01 21:56:16,926 Resampling CI.SRT..BHN from 40.0 to 100 Hz\n",
      "2023-10-01 21:56:16,935 Resampling CI.SRT..BHZ from 40.0 to 100 Hz\n",
      "Pred:  21%|██        | 19/90 [00:01<00:05, 14.18it/s]2023-10-01 21:56:17,123 Resampling CI.TOW2..BHE from 40.0 to 100 Hz\n",
      "2023-10-01 21:56:17,133 Resampling CI.TOW2..BHN from 40.0 to 100 Hz\n",
      "2023-10-01 21:56:17,143 Resampling CI.TOW2..BHZ from 40.0 to 100 Hz\n",
      "Pred:  23%|██▎       | 21/90 [00:01<00:04, 14.22it/s]2023-10-01 21:56:17,336 Resampling CI.WBM..BHE from 40.0 to 100 Hz\n",
      "2023-10-01 21:56:17,346 Resampling CI.WBM..BHN from 40.0 to 100 Hz\n",
      "2023-10-01 21:56:17,355 Resampling CI.WBM..BHZ from 40.0 to 100 Hz\n",
      "Pred:  28%|██▊       | 25/90 [00:02<00:04, 13.74it/s]2023-10-01 21:56:17,561 Resampling CI.WCS2..BHE from 40.0 to 100 Hz\n",
      "2023-10-01 21:56:17,571 Resampling CI.WCS2..BHN from 40.0 to 100 Hz\n",
      "2023-10-01 21:56:17,580 Resampling CI.WCS2..BHZ from 40.0 to 100 Hz\n",
      "Pred:  30%|███       | 27/90 [00:02<00:04, 14.05it/s]2023-10-01 21:56:17,768 Resampling CI.WMF..BHE from 40.0 to 100 Hz\n",
      "2023-10-01 21:56:17,780 Resampling CI.WMF..BHN from 40.0 to 100 Hz\n",
      "2023-10-01 21:56:17,788 Resampling CI.WMF..BHZ from 40.0 to 100 Hz\n",
      "Pred:  37%|███▋      | 33/90 [00:02<00:03, 14.83it/s]2023-10-01 21:56:18,099 Resampling CI.WRC2..BHE from 40.0 to 100 Hz\n",
      "2023-10-01 21:56:18,108 Resampling CI.WRC2..BHN from 40.0 to 100 Hz\n",
      "2023-10-01 21:56:18,116 Resampling CI.WRC2..BHZ from 40.0 to 100 Hz\n",
      "Pred:  43%|████▎     | 39/90 [00:03<00:03, 15.04it/s]2023-10-01 21:56:18,558 Resampling CI.CCC..BHE from 40.0 to 100 Hz\n",
      "2023-10-01 21:56:18,567 Resampling CI.CCC..BHN from 40.0 to 100 Hz\n",
      "2023-10-01 21:56:18,576 Resampling CI.CCC..BHZ from 40.0 to 100 Hz\n",
      "Pred:  48%|████▊     | 43/90 [00:03<00:03, 15.14it/s]2023-10-01 21:56:18,751 Resampling CI.CLC..BHE from 40.0 to 100 Hz\n",
      "2023-10-01 21:56:18,761 Resampling CI.CLC..BHN from 40.0 to 100 Hz\n",
      "2023-10-01 21:56:18,770 Resampling CI.CLC..BHZ from 40.0 to 100 Hz\n",
      "Pred:  50%|█████     | 45/90 [00:03<00:02, 15.03it/s]2023-10-01 21:56:18,958 Resampling CI.DTP..BHE from 40.0 to 100 Hz\n",
      "2023-10-01 21:56:18,967 Resampling CI.DTP..BHN from 40.0 to 100 Hz\n",
      "2023-10-01 21:56:18,976 Resampling CI.DTP..BHZ from 40.0 to 100 Hz\n",
      "Pred:  54%|█████▍    | 49/90 [00:03<00:02, 14.78it/s]2023-10-01 21:56:19,166 Resampling CI.JRC2..BHE from 40.0 to 100 Hz\n",
      "2023-10-01 21:56:19,174 Resampling CI.JRC2..BHN from 40.0 to 100 Hz\n",
      "2023-10-01 21:56:19,183 Resampling CI.JRC2..BHZ from 40.0 to 100 Hz\n",
      "Pred:  57%|█████▋    | 51/90 [00:03<00:02, 14.64it/s]2023-10-01 21:56:19,371 Resampling CI.LRL..BHE from 40.0 to 100 Hz\n",
      "2023-10-01 21:56:19,380 Resampling CI.LRL..BHN from 40.0 to 100 Hz\n",
      "2023-10-01 21:56:19,388 Resampling CI.LRL..BHZ from 40.0 to 100 Hz\n",
      "Pred:  61%|██████    | 55/90 [00:04<00:02, 14.99it/s]2023-10-01 21:56:19,563 Resampling CI.MPM..BHE from 40.0 to 100 Hz\n",
      "2023-10-01 21:56:19,573 Resampling CI.MPM..BHN from 40.0 to 100 Hz\n",
      "2023-10-01 21:56:19,582 Resampling CI.MPM..BHZ from 40.0 to 100 Hz\n",
      "Pred:  63%|██████▎   | 57/90 [00:04<00:02, 14.93it/s]2023-10-01 21:56:19,767 Resampling CI.SLA..BHE from 40.0 to 100 Hz\n",
      "2023-10-01 21:56:19,777 Resampling CI.SLA..BHN from 40.0 to 100 Hz\n",
      "2023-10-01 21:56:19,785 Resampling CI.SLA..BHZ from 40.0 to 100 Hz\n",
      "Pred:  68%|██████▊   | 61/90 [00:04<00:01, 14.92it/s]2023-10-01 21:56:19,968 Resampling CI.SRT..BHE from 40.0 to 100 Hz\n",
      "2023-10-01 21:56:19,978 Resampling CI.SRT..BHN from 40.0 to 100 Hz\n",
      "2023-10-01 21:56:19,987 Resampling CI.SRT..BHZ from 40.0 to 100 Hz\n",
      "Pred:  70%|███████   | 63/90 [00:04<00:01, 14.92it/s]2023-10-01 21:56:20,175 Resampling CI.TOW2..BHE from 40.0 to 100 Hz\n",
      "2023-10-01 21:56:20,183 Resampling CI.TOW2..BHN from 40.0 to 100 Hz\n",
      "2023-10-01 21:56:20,192 Resampling CI.TOW2..BHZ from 40.0 to 100 Hz\n",
      "Pred:  74%|███████▍  | 67/90 [00:05<00:01, 15.01it/s]2023-10-01 21:56:20,376 Resampling CI.WBM..BHE from 40.0 to 100 Hz\n",
      "2023-10-01 21:56:20,385 Resampling CI.WBM..BHN from 40.0 to 100 Hz\n",
      "2023-10-01 21:56:20,395 Resampling CI.WBM..BHZ from 40.0 to 100 Hz\n",
      "Pred:  77%|███████▋  | 69/90 [00:05<00:01, 14.91it/s]2023-10-01 21:56:20,573 Resampling CI.WCS2..BHE from 40.0 to 100 Hz\n",
      "2023-10-01 21:56:20,582 Resampling CI.WCS2..BHN from 40.0 to 100 Hz\n",
      "2023-10-01 21:56:20,591 Resampling CI.WCS2..BHZ from 40.0 to 100 Hz\n",
      "Pred:  81%|████████  | 73/90 [00:05<00:01, 14.63it/s]2023-10-01 21:56:20,782 Resampling CI.WMF..BHE from 40.0 to 100 Hz\n",
      "2023-10-01 21:56:20,790 Resampling CI.WMF..BHN from 40.0 to 100 Hz\n",
      "2023-10-01 21:56:20,798 Resampling CI.WMF..BHZ from 40.0 to 100 Hz\n",
      "Pred:  86%|████████▌ | 77/90 [00:05<00:00, 14.67it/s]2023-10-01 21:56:21,128 Resampling CI.WRC2..BHE from 40.0 to 100 Hz\n",
      "2023-10-01 21:56:21,137 Resampling CI.WRC2..BHN from 40.0 to 100 Hz\n",
      "2023-10-01 21:56:21,147 Resampling CI.WRC2..BHZ from 40.0 to 100 Hz\n",
      "Pred: 100%|██████████| 90/90 [00:06<00:00, 13.67it/s]\n"
     ]
    },
    {
     "name": "stdout",
     "output_type": "stream",
     "text": [
      "Done with 8706 P-picks and 9200 S-picks\n"
     ]
    }
   ],
   "source": [
    "run(root_path, \"run_phasenet.py\")"
   ]
  },
  {
   "cell_type": "markdown",
   "metadata": {},
   "source": [
    "### Run Phase Association: GaMMA\n",
    "\n",
    "**Edit the [run_gamma.py](./QuakeFlow/slurm/run_gamma.py) file to select the studying region**"
   ]
  },
  {
   "cell_type": "code",
   "execution_count": 6,
   "metadata": {},
   "outputs": [
    {
     "name": "stdout",
     "output_type": "stream",
     "text": [
      "cd ./QuakeFlow/slurm/ && python run_gamma.py\n",
      "num_nodes: 1\n",
      "sampling_rate: 100\n",
      "degree2km: 111.1949\n",
      "channel: HH*,BH*,EH*,HN*\n",
      "level: response\n",
      "gamma: {'zmin_km': 0, 'zmax_km': 60}\n",
      "cctorch: {'sampling_rate': 100, 'time_before': 0.25, 'time_after': 1.0, 'components': 'ENZ123', 'component_mapping': {'3': 0, '2': 1, '1': 2, 'E': 0, 'N': 1, 'Z': 2}}\n",
      "longitude0: -117.504\n",
      "latitude0: 35.705\n",
      "maxradius_degree: 0.5\n",
      "minlatitude: 35.205\n",
      "maxlatitude: 36.205\n",
      "minlongitude: -118.004\n",
      "maxlongitude: -117.004\n",
      "starttime: 2019-07-04T17:00:00\n",
      "endtime: 2019-07-04T19:00:00\n",
      "provider: ['SCEDC', 'IRIS']\n",
      "network: CI\n",
      "use_dbscan: True\n",
      "use_amplitude: True\n",
      "method: BGMM\n",
      "oversample_factor: 8\n",
      "vel: {'p': 6.0, 's': 3.4285714285714284}\n",
      "dims: ['x(km)', 'y(km)', 'z(km)']\n",
      "x(km): [-45.14694189  45.14694189]\n",
      "y(km): [-55.59745  55.59745]\n",
      "z(km): (0, 20)\n",
      "bfgs_bounds: ((-46.14694188923431, 46.14694188923431), (-56.59745, 56.59745), (0, 21), (None, None))\n",
      "dbscan_eps: 10\n",
      "dbscan_min_samples: 3\n",
      "min_picks_per_eq: 5\n",
      "min_p_picks_per_eq: 0\n",
      "min_s_picks_per_eq: 0\n",
      "max_sigma11: 2.0\n",
      "max_sigma22: 1.0\n",
      "max_sigma12: 1.0\n",
      "Associating 114 clusters with 9 CPUs\n",
      "...............................................\n",
      "Associated 100 events\n",
      "................................\n",
      "Associated 200 events\n",
      "...................................\n",
      "Associated 300 events\n",
      "\n",
      "Associated 400 events\n",
      "\n",
      "Initialization 1 did not converge.\n"
     ]
    }
   ],
   "source": [
    "run(root_path, \"run_gamma.py\")"
   ]
  },
  {
   "cell_type": "markdown",
   "metadata": {},
   "source": [
    "### Visualization"
   ]
  },
  {
   "cell_type": "markdown",
   "metadata": {},
   "source": []
  },
  {
   "cell_type": "markdown",
   "metadata": {},
   "source": []
  }
 ],
 "metadata": {
  "kernelspec": {
   "display_name": "base",
   "language": "python",
   "name": "python3"
  },
  "language_info": {
   "codemirror_mode": {
    "name": "ipython",
    "version": 3
   },
   "file_extension": ".py",
   "mimetype": "text/x-python",
   "name": "python",
   "nbconvert_exporter": "python",
   "pygments_lexer": "ipython3",
   "version": "3.11.4"
  },
  "orig_nbformat": 4
 },
 "nbformat": 4,
 "nbformat_minor": 2
}
