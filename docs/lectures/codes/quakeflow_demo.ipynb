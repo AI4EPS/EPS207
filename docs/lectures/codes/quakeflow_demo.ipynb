{
 "cells": [
  {
   "cell_type": "markdown",
   "metadata": {},
   "source": [
    "# QuakeFlow demo"
   ]
  },
  {
   "cell_type": "code",
   "execution_count": 1,
   "metadata": {},
   "outputs": [],
   "source": [
    "import os\n",
    "root_path = \"./QuakeFlow/slurm/\"\n",
    "def run(root_path, script):\n",
    "    cmd = f\"cd {root_path} && python {script}\"\n",
    "    print(cmd)\n",
    "    os.system(cmd)"
   ]
  },
  {
   "cell_type": "markdown",
   "metadata": {},
   "source": [
    "### Set configuration parameters\n",
    "\n",
    "**Edit the [config.json](./QuakeFlow/slurm/config.json) file to add parameters of studying region**\n",
    "\n",
    "**Edit the [set_config.py](./QuakeFlow/slurm/set_config.py) file to select the studying region**\n",
    "\n",
    "You can search for earthquake information here: [USGS](https://earthquake.usgs.gov/earthquakes/map/?extent=10.66061,-133.33008&extent=58.53959,-56.68945&range=month&magnitude=all&settings=true)\n",
    "\n",
    "You can search for seismic network information here: [IRIS](http://ds.iris.edu/gmap/#network=*&starttime=2023-10-01&planet=earth)"
   ]
  },
  {
   "cell_type": "code",
   "execution_count": 2,
   "metadata": {},
   "outputs": [
    {
     "name": "stdout",
     "output_type": "stream",
     "text": [
      "cd ./QuakeFlow/slurm/ && python set_config.py\n",
      "{\n",
      "    \"num_nodes\": 1,\n",
      "    \"sampling_rate\": 100,\n",
      "    \"degree2km\": 111.1949,\n",
      "    \"channel\": \"HH*,BH*,EH*,HN*\",\n",
      "    \"level\": \"response\",\n",
      "    \"gamma\": {\n",
      "        \"zmin_km\": 0,\n",
      "        \"zmax_km\": 60\n",
      "    },\n",
      "    \"cctorch\": {\n",
      "        \"sampling_rate\": 100,\n",
      "        \"time_before\": 0.25,\n",
      "        \"time_after\": 1.0,\n",
      "        \"components\": \"ENZ123\",\n",
      "        \"component_mapping\": {\n",
      "            \"3\": 0,\n",
      "            \"2\": 1,\n",
      "            \"1\": 2,\n",
      "            \"E\": 0,\n",
      "            \"N\": 1,\n",
      "            \"Z\": 2\n",
      "        }\n",
      "    },\n",
      "    \"longitude0\": -117.504,\n",
      "    \"latitude0\": 35.705,\n",
      "    \"maxradius_degree\": 0.5,\n",
      "    \"minlatitude\": 35.205,\n",
      "    \"maxlatitude\": 36.205,\n",
      "    \"minlongitude\": -118.004,\n",
      "    \"maxlongitude\": -117.004,\n",
      "    \"starttime\": \"2019-07-04T17:00:00\",\n",
      "    \"endtime\": \"2019-07-04T19:00:00\",\n",
      "    \"provider\": [\n",
      "        \"SCEDC\",\n",
      "        \"IRIS\"\n",
      "    ],\n",
      "    \"network\": \"CI\"\n",
      "}\n"
     ]
    }
   ],
   "source": [
    "run(root_path, \"set_config.py\")"
   ]
  },
  {
   "cell_type": "markdown",
   "metadata": {},
   "source": [
    "### Download stations and events\n",
    "\n",
    "**Edit the [download_station.py](./QuakeFlow/slurm/download_station.py) file to select the studying region**\n",
    "\n",
    "**Edit the [download_catalog.py](./QuakeFlow/slurm/download_catalog.py) file to select the studying region**"
   ]
  },
  {
   "cell_type": "code",
   "execution_count": 3,
   "metadata": {},
   "outputs": [
    {
     "name": "stdout",
     "output_type": "stream",
     "text": [
      "cd ./QuakeFlow/slurm/ && python download_station.py\n",
      "{\n",
      "    \"num_nodes\": 1,\n",
      "    \"sampling_rate\": 100,\n",
      "    \"degree2km\": 111.1949,\n",
      "    \"channel\": \"HH*,BH*,EH*,HN*\",\n",
      "    \"level\": \"response\",\n",
      "    \"gamma\": {\n",
      "        \"zmin_km\": 0,\n",
      "        \"zmax_km\": 60\n",
      "    },\n",
      "    \"cctorch\": {\n",
      "        \"sampling_rate\": 100,\n",
      "        \"time_before\": 0.25,\n",
      "        \"time_after\": 1.0,\n",
      "        \"components\": \"ENZ123\",\n",
      "        \"component_mapping\": {\n",
      "            \"3\": 0,\n",
      "            \"2\": 1,\n",
      "            \"1\": 2,\n",
      "            \"E\": 0,\n",
      "            \"N\": 1,\n",
      "            \"Z\": 2\n",
      "        }\n",
      "    },\n",
      "    \"longitude0\": -117.504,\n",
      "    \"latitude0\": 35.705,\n",
      "    \"maxradius_degree\": 0.5,\n",
      "    \"minlatitude\": 35.205,\n",
      "    \"maxlatitude\": 36.205,\n",
      "    \"minlongitude\": -118.004,\n",
      "    \"maxlongitude\": -117.004,\n",
      "    \"starttime\": \"2019-07-04T17:00:00\",\n",
      "    \"endtime\": \"2019-07-04T19:00:00\",\n",
      "    \"provider\": [\n",
      "        \"SCEDC\",\n",
      "        \"IRIS\"\n",
      "    ],\n",
      "    \"network\": \"CI\"\n",
      "}\n",
      "Downloading station response...\n",
      "Dowloaded 150 stations from scedc\n",
      "Dowloaded 150 stations from iris\n",
      "Parse 150 channels of SCEDC into csv\n",
      "Parse 52 stations of SCEDC into json\n",
      "Parse 150 channels of IRIS into csv\n",
      "Parse 52 stations of IRIS into json\n",
      "Merged 150 channels\n",
      "Merged 52 stations\n"
     ]
    },
    {
     "name": "stderr",
     "output_type": "stream",
     "text": [
      "/usr/local/python/3.10.8/lib/python3.10/site-packages/cartopy/io/__init__.py:241: DownloadWarning: Downloading: https://naturalearth.s3.amazonaws.com/10m_physical/ne_10m_land.zip\n",
      "  warnings.warn(f'Downloading: {url}', DownloadWarning)\n",
      "/usr/local/python/3.10.8/lib/python3.10/site-packages/cartopy/io/__init__.py:241: DownloadWarning: Downloading: https://naturalearth.s3.amazonaws.com/10m_physical/ne_10m_ocean.zip\n",
      "  warnings.warn(f'Downloading: {url}', DownloadWarning)\n",
      "/usr/local/python/3.10.8/lib/python3.10/site-packages/cartopy/io/__init__.py:241: DownloadWarning: Downloading: https://naturalearth.s3.amazonaws.com/10m_physical/ne_10m_coastline.zip\n",
      "  warnings.warn(f'Downloading: {url}', DownloadWarning)\n",
      "/usr/local/python/3.10.8/lib/python3.10/site-packages/cartopy/io/__init__.py:241: DownloadWarning: Downloading: https://naturalearth.s3.amazonaws.com/10m_physical/ne_10m_lakes.zip\n",
      "  warnings.warn(f'Downloading: {url}', DownloadWarning)\n",
      "/usr/local/python/3.10.8/lib/python3.10/site-packages/cartopy/io/__init__.py:241: DownloadWarning: Downloading: https://naturalearth.s3.amazonaws.com/10m_physical/ne_10m_rivers_lake_centerlines.zip\n",
      "  warnings.warn(f'Downloading: {url}', DownloadWarning)\n"
     ]
    },
    {
     "name": "stdout",
     "output_type": "stream",
     "text": [
      "cd ./QuakeFlow/slurm/ && python download_catalog.py\n",
      "{\n",
      "    \"num_nodes\": 1,\n",
      "    \"sampling_rate\": 100,\n",
      "    \"degree2km\": 111.1949,\n",
      "    \"channel\": \"HH*,BH*,EH*,HN*\",\n",
      "    \"level\": \"response\",\n",
      "    \"gamma\": {\n",
      "        \"zmin_km\": 0,\n",
      "        \"zmax_km\": 60\n",
      "    },\n",
      "    \"cctorch\": {\n",
      "        \"sampling_rate\": 100,\n",
      "        \"time_before\": 0.25,\n",
      "        \"time_after\": 1.0,\n",
      "        \"components\": \"ENZ123\",\n",
      "        \"component_mapping\": {\n",
      "            \"3\": 0,\n",
      "            \"2\": 1,\n",
      "            \"1\": 2,\n",
      "            \"E\": 0,\n",
      "            \"N\": 1,\n",
      "            \"Z\": 2\n",
      "        }\n",
      "    },\n",
      "    \"longitude0\": -117.504,\n",
      "    \"latitude0\": 35.705,\n",
      "    \"maxradius_degree\": 0.5,\n",
      "    \"minlatitude\": 35.205,\n",
      "    \"maxlatitude\": 36.205,\n",
      "    \"minlongitude\": -118.004,\n",
      "    \"maxlongitude\": -117.004,\n",
      "    \"starttime\": \"2019-07-04T17:00:00\",\n",
      "    \"endtime\": \"2019-07-04T19:00:00\",\n",
      "    \"provider\": [\n",
      "        \"SCEDC\",\n",
      "        \"IRIS\"\n",
      "    ],\n",
      "    \"network\": \"CI\"\n",
      "}\n",
      "Downloading standard catalog...\n",
      "Dowloaded 252 events from scedc\n",
      "Dowloaded 77 events from iris\n"
     ]
    }
   ],
   "source": [
    "run(root_path, \"download_station.py\")\n",
    "\n",
    "run(root_path, \"download_catalog.py\")"
   ]
  },
  {
   "cell_type": "markdown",
   "metadata": {},
   "source": [
    "### Download continuous waveform data\n",
    "\n",
    "**Edit the [download_waveform_v2.py](./QuakeFlow/slurm/download_waveform_v2.py) file to select the studying region**"
   ]
  },
  {
   "cell_type": "code",
   "execution_count": 4,
   "metadata": {},
   "outputs": [
    {
     "name": "stdout",
     "output_type": "stream",
     "text": [
      "cd ./QuakeFlow/slurm/ && python download_waveform_v2.py\n",
      "Downloading from http://service.scedc.caltech.edu: 2019-07-04T17:00:00 - 2019-07-04T18:00:00 150 traces\n",
      "Downloading from http://service.scedc.caltech.edu: 2019-07-04T18:00:00 - 2019-07-04T19:00:00 150 traces\n",
      "Already downloaded from http://service.iris.edu: 2019-07-04T17:00:00 - 2019-07-04T18:00:00\n",
      "Already downloaded from http://service.iris.edu: 2019-07-04T18:00:00 - 2019-07-04T19:00:00\n"
     ]
    }
   ],
   "source": [
    "run(root_path, \"download_waveform_v2.py\")"
   ]
  },
  {
   "cell_type": "markdown",
   "metadata": {},
   "source": [
    "### Run Phase Picking: PhaseNet\n",
    "\n",
    "**Edit the [run_phasenet.py](./QuakeFlow/slurm/run_phasenet.py) file to select the studying region**"
   ]
  },
  {
   "cell_type": "code",
   "execution_count": 5,
   "metadata": {},
   "outputs": [
    {
     "name": "stdout",
     "output_type": "stream",
     "text": [
      "cd ./QuakeFlow/slurm/ && python run_phasenet.py\n"
     ]
    },
    {
     "name": "stderr",
     "output_type": "stream",
     "text": [
      "2023-10-02 05:59:57.213849: I tensorflow/tsl/cuda/cudart_stub.cc:28] Could not find cuda drivers on your machine, GPU will not be used.\n",
      "2023-10-02 05:59:57.241068: E tensorflow/compiler/xla/stream_executor/cuda/cuda_dnn.cc:9342] Unable to register cuDNN factory: Attempting to register factory for plugin cuDNN when one has already been registered\n",
      "2023-10-02 05:59:57.241107: E tensorflow/compiler/xla/stream_executor/cuda/cuda_fft.cc:609] Unable to register cuFFT factory: Attempting to register factory for plugin cuFFT when one has already been registered\n",
      "2023-10-02 05:59:57.241126: E tensorflow/compiler/xla/stream_executor/cuda/cuda_blas.cc:1518] Unable to register cuBLAS factory: Attempting to register factory for plugin cuBLAS when one has already been registered\n",
      "2023-10-02 05:59:57.248165: I tensorflow/tsl/cuda/cudart_stub.cc:28] Could not find cuda drivers on your machine, GPU will not be used.\n",
      "2023-10-02 05:59:57.248364: I tensorflow/core/platform/cpu_feature_guard.cc:182] This TensorFlow binary is optimized to use available CPU instructions in performance-critical operations.\n",
      "To enable the following instructions: AVX2 FMA, in other operations, rebuild TensorFlow with the appropriate compiler flags.\n",
      "2023-10-02 05:59:58.050515: W tensorflow/compiler/tf2tensorrt/utils/py_utils.cc:38] TF-TRT Warning: Could not find TensorRT\n",
      "2023-10-02 06:00:01,423 Pred log: local/demo/phasenet\n",
      "2023-10-02 06:00:01,423 Dataset size: 90\n",
      "2023-10-02 06:00:01,532 Model: depths 5, filters 8, filter size 7x1, pool size: 4x1, dilation rate: 1x1\n",
      "2023-10-02 06:00:03.221198: I tensorflow/compiler/mlir/mlir_graph_optimization_pass.cc:382] MLIR V1 optimization pass is not enabled\n",
      "2023-10-02 06:00:03,356 restoring model ../PhaseNet//model/190703-214543/model_95.ckpt\n",
      "Pred:   0%|          | 0/90 [00:00<?, ?it/s]2023-10-02 06:00:03,669 Resampling CI.CCC..BHE from 40.0 to 100 Hz\n",
      "2023-10-02 06:00:04,367 Resampling CI.CCC..BHN from 40.0 to 100 Hz\n",
      "2023-10-02 06:00:04,378 Resampling CI.CCC..BHZ from 40.0 to 100 Hz\n",
      "2023-10-02 06:00:04,452 Resampling CI.CLC..BHE from 40.0 to 100 Hz\n",
      "2023-10-02 06:00:04,474 Resampling CI.CLC..BHN from 40.0 to 100 Hz\n",
      "2023-10-02 06:00:04,505 Resampling CI.CLC..BHZ from 40.0 to 100 Hz\n",
      "Pred:   1%|          | 1/90 [00:01<01:53,  1.27s/it]2023-10-02 06:00:04,729 Resampling CI.DTP..BHE from 40.0 to 100 Hz\n",
      "2023-10-02 06:00:04,739 Resampling CI.DTP..BHN from 40.0 to 100 Hz\n",
      "2023-10-02 06:00:04,751 Resampling CI.DTP..BHZ from 40.0 to 100 Hz\n",
      "Pred:   4%|▍         | 4/90 [00:01<00:27,  3.17it/s]2023-10-02 06:00:05,193 Resampling CI.JRC2..BHE from 40.0 to 100 Hz\n",
      "2023-10-02 06:00:05,210 Resampling CI.JRC2..BHN from 40.0 to 100 Hz\n",
      "2023-10-02 06:00:05,222 Resampling CI.JRC2..BHZ from 40.0 to 100 Hz\n",
      "Pred:   8%|▊         | 7/90 [00:02<00:17,  4.84it/s]2023-10-02 06:00:05,684 Resampling CI.LRL..BHE from 40.0 to 100 Hz\n",
      "2023-10-02 06:00:05,705 Resampling CI.LRL..BHN from 40.0 to 100 Hz\n",
      "2023-10-02 06:00:05,720 Resampling CI.LRL..BHZ from 40.0 to 100 Hz\n",
      "Pred:  11%|█         | 10/90 [00:02<00:13,  6.01it/s]2023-10-02 06:00:06,131 Resampling CI.MPM..BHE from 40.0 to 100 Hz\n",
      "2023-10-02 06:00:06,153 Resampling CI.MPM..BHN from 40.0 to 100 Hz\n",
      "2023-10-02 06:00:06,163 Resampling CI.MPM..BHZ from 40.0 to 100 Hz\n",
      "Pred:  14%|█▍        | 13/90 [00:03<00:12,  6.30it/s]2023-10-02 06:00:06,601 Resampling CI.SLA..BHE from 40.0 to 100 Hz\n",
      "2023-10-02 06:00:06,611 Resampling CI.SLA..BHN from 40.0 to 100 Hz\n",
      "2023-10-02 06:00:06,622 Resampling CI.SLA..BHZ from 40.0 to 100 Hz\n",
      "Pred:  18%|█▊        | 16/90 [00:03<00:11,  6.53it/s]2023-10-02 06:00:07,054 Resampling CI.SRT..BHE from 40.0 to 100 Hz\n",
      "2023-10-02 06:00:07,064 Resampling CI.SRT..BHN from 40.0 to 100 Hz\n",
      "2023-10-02 06:00:07,074 Resampling CI.SRT..BHZ from 40.0 to 100 Hz\n",
      "Pred:  21%|██        | 19/90 [00:04<00:11,  6.31it/s]2023-10-02 06:00:07,527 Resampling CI.TOW2..BHE from 40.0 to 100 Hz\n",
      "2023-10-02 06:00:07,544 Resampling CI.TOW2..BHN from 40.0 to 100 Hz\n",
      "2023-10-02 06:00:07,554 Resampling CI.TOW2..BHZ from 40.0 to 100 Hz\n",
      "Pred:  24%|██▍       | 22/90 [00:04<00:10,  6.68it/s]2023-10-02 06:00:07,962 Resampling CI.WBM..BHE from 40.0 to 100 Hz\n",
      "2023-10-02 06:00:07,972 Resampling CI.WBM..BHN from 40.0 to 100 Hz\n",
      "2023-10-02 06:00:07,981 Resampling CI.WBM..BHZ from 40.0 to 100 Hz\n",
      "Pred:  28%|██▊       | 25/90 [00:04<00:09,  6.68it/s]2023-10-02 06:00:08,417 Resampling CI.WCS2..BHE from 40.0 to 100 Hz\n",
      "2023-10-02 06:00:08,432 Resampling CI.WCS2..BHN from 40.0 to 100 Hz\n",
      "2023-10-02 06:00:08,442 Resampling CI.WCS2..BHZ from 40.0 to 100 Hz\n",
      "Pred:  31%|███       | 28/90 [00:05<00:09,  6.87it/s]2023-10-02 06:00:08,838 Resampling CI.WMF..BHE from 40.0 to 100 Hz\n",
      "2023-10-02 06:00:08,866 Resampling CI.WMF..BHN from 40.0 to 100 Hz\n",
      "2023-10-02 06:00:08,876 Resampling CI.WMF..BHZ from 40.0 to 100 Hz\n",
      "Pred:  37%|███▋      | 33/90 [00:06<00:09,  6.02it/s]2023-10-02 06:00:09,652 Resampling CI.WRC2..BHE from 40.0 to 100 Hz\n",
      "2023-10-02 06:00:09,678 Resampling CI.WRC2..BHN from 40.0 to 100 Hz\n",
      "2023-10-02 06:00:09,688 Resampling CI.WRC2..BHZ from 40.0 to 100 Hz\n",
      "Pred:  44%|████▍     | 40/90 [00:07<00:07,  6.85it/s]2023-10-02 06:00:10,670 Resampling CI.CCC..BHE from 40.0 to 100 Hz\n",
      "2023-10-02 06:00:10,680 Resampling CI.CCC..BHN from 40.0 to 100 Hz\n",
      "2023-10-02 06:00:10,690 Resampling CI.CCC..BHZ from 40.0 to 100 Hz\n",
      "Pred:  48%|████▊     | 43/90 [00:07<00:06,  6.84it/s]2023-10-02 06:00:11,114 Resampling CI.CLC..BHE from 40.0 to 100 Hz\n",
      "2023-10-02 06:00:11,129 Resampling CI.CLC..BHN from 40.0 to 100 Hz\n",
      "2023-10-02 06:00:11,146 Resampling CI.CLC..BHZ from 40.0 to 100 Hz\n",
      "Pred:  51%|█████     | 46/90 [00:08<00:06,  6.86it/s]2023-10-02 06:00:11,550 Resampling CI.DTP..BHE from 40.0 to 100 Hz\n",
      "2023-10-02 06:00:11,560 Resampling CI.DTP..BHN from 40.0 to 100 Hz\n",
      "2023-10-02 06:00:11,575 Resampling CI.DTP..BHZ from 40.0 to 100 Hz\n",
      "Pred:  54%|█████▍    | 49/90 [00:08<00:06,  6.63it/s]2023-10-02 06:00:12,020 Resampling CI.JRC2..BHE from 40.0 to 100 Hz\n",
      "2023-10-02 06:00:12,030 Resampling CI.JRC2..BHN from 40.0 to 100 Hz\n",
      "2023-10-02 06:00:12,040 Resampling CI.JRC2..BHZ from 40.0 to 100 Hz\n",
      "Pred:  58%|█████▊    | 52/90 [00:09<00:05,  6.47it/s]2023-10-02 06:00:12,489 Resampling CI.LRL..BHE from 40.0 to 100 Hz\n",
      "2023-10-02 06:00:12,499 Resampling CI.LRL..BHN from 40.0 to 100 Hz\n",
      "2023-10-02 06:00:12,509 Resampling CI.LRL..BHZ from 40.0 to 100 Hz\n",
      "Pred:  61%|██████    | 55/90 [00:09<00:05,  6.27it/s]2023-10-02 06:00:12,966 Resampling CI.MPM..BHE from 40.0 to 100 Hz\n",
      "2023-10-02 06:00:12,975 Resampling CI.MPM..BHN from 40.0 to 100 Hz\n",
      "2023-10-02 06:00:12,985 Resampling CI.MPM..BHZ from 40.0 to 100 Hz\n",
      "Pred:  64%|██████▍   | 58/90 [00:10<00:05,  6.28it/s]2023-10-02 06:00:13,454 Resampling CI.SLA..BHE from 40.0 to 100 Hz\n",
      "2023-10-02 06:00:13,473 Resampling CI.SLA..BHN from 40.0 to 100 Hz\n",
      "2023-10-02 06:00:13,483 Resampling CI.SLA..BHZ from 40.0 to 100 Hz\n",
      "Pred:  68%|██████▊   | 61/90 [00:10<00:04,  6.57it/s]2023-10-02 06:00:13,905 Resampling CI.SRT..BHE from 40.0 to 100 Hz\n",
      "2023-10-02 06:00:13,915 Resampling CI.SRT..BHN from 40.0 to 100 Hz\n",
      "2023-10-02 06:00:13,925 Resampling CI.SRT..BHZ from 40.0 to 100 Hz\n",
      "Pred:  71%|███████   | 64/90 [00:10<00:03,  6.70it/s]2023-10-02 06:00:14,348 Resampling CI.TOW2..BHE from 40.0 to 100 Hz\n",
      "2023-10-02 06:00:14,358 Resampling CI.TOW2..BHN from 40.0 to 100 Hz\n",
      "2023-10-02 06:00:14,368 Resampling CI.TOW2..BHZ from 40.0 to 100 Hz\n",
      "Pred:  74%|███████▍  | 67/90 [00:11<00:03,  6.71it/s]2023-10-02 06:00:14,810 Resampling CI.WBM..BHE from 40.0 to 100 Hz\n",
      "2023-10-02 06:00:14,820 Resampling CI.WBM..BHN from 40.0 to 100 Hz\n",
      "2023-10-02 06:00:14,831 Resampling CI.WBM..BHZ from 40.0 to 100 Hz\n",
      "Pred:  78%|███████▊  | 70/90 [00:11<00:02,  6.85it/s]2023-10-02 06:00:15,233 Resampling CI.WCS2..BHE from 40.0 to 100 Hz\n",
      "2023-10-02 06:00:15,250 Resampling CI.WCS2..BHN from 40.0 to 100 Hz\n",
      "2023-10-02 06:00:15,262 Resampling CI.WCS2..BHZ from 40.0 to 100 Hz\n",
      "Pred:  81%|████████  | 73/90 [00:12<00:02,  6.30it/s]2023-10-02 06:00:15,715 Resampling CI.WMF..BHE from 40.0 to 100 Hz\n",
      "2023-10-02 06:00:15,724 Resampling CI.WMF..BHN from 40.0 to 100 Hz\n",
      "2023-10-02 06:00:15,734 Resampling CI.WMF..BHZ from 40.0 to 100 Hz\n",
      "Pred:  87%|████████▋ | 78/90 [00:13<00:01,  6.73it/s]2023-10-02 06:00:16,462 Resampling CI.WRC2..BHE from 40.0 to 100 Hz\n",
      "2023-10-02 06:00:16,473 Resampling CI.WRC2..BHN from 40.0 to 100 Hz\n",
      "2023-10-02 06:00:16,484 Resampling CI.WRC2..BHZ from 40.0 to 100 Hz\n",
      "Pred: 100%|██████████| 90/90 [00:14<00:00,  6.09it/s]\n"
     ]
    },
    {
     "name": "stdout",
     "output_type": "stream",
     "text": [
      "Done with 8706 P-picks and 9200 S-picks\n"
     ]
    }
   ],
   "source": [
    "run(root_path, \"run_phasenet.py\")"
   ]
  },
  {
   "cell_type": "markdown",
   "metadata": {},
   "source": [
    "### Run Phase Association: GaMMA\n",
    "\n",
    "**Edit the [run_gamma.py](./QuakeFlow/slurm/run_gamma.py) file to select the studying region**"
   ]
  },
  {
   "cell_type": "code",
   "execution_count": 2,
   "metadata": {},
   "outputs": [
    {
     "name": "stdout",
     "output_type": "stream",
     "text": [
      "cd ./QuakeFlow/slurm/ && python run_gamma.py\n",
      "num_nodes: 1\n",
      "sampling_rate: 100\n",
      "degree2km: 111.1949\n",
      "channel: HH*,BH*,EH*,HN*\n",
      "level: response\n",
      "gamma: {'zmin_km': 0, 'zmax_km': 60}\n",
      "cctorch: {'sampling_rate': 100, 'time_before': 0.25, 'time_after': 1.0, 'components': 'ENZ123', 'component_mapping': {'3': 0, '2': 1, '1': 2, 'E': 0, 'N': 1, 'Z': 2}}\n",
      "longitude0: -117.504\n",
      "latitude0: 35.705\n",
      "maxradius_degree: 0.5\n",
      "minlatitude: 35.205\n",
      "maxlatitude: 36.205\n",
      "minlongitude: -118.004\n",
      "maxlongitude: -117.004\n",
      "starttime: 2019-07-04T17:00:00\n",
      "endtime: 2019-07-04T19:00:00\n",
      "provider: ['SCEDC', 'IRIS']\n",
      "network: CI\n",
      "use_dbscan: True\n",
      "use_amplitude: True\n",
      "method: BGMM\n",
      "oversample_factor: 8\n",
      "vel: {'p': 6.0, 's': 3.4285714285714284}\n",
      "dims: ['x(km)', 'y(km)', 'z(km)']\n",
      "x(km): [-45.14694189  45.14694189]\n",
      "y(km): [-55.59745  55.59745]\n",
      "z(km): (0, 20)\n",
      "bfgs_bounds: ((-46.14694188923431, 46.14694188923431), (-56.59745, 56.59745), (0, 21), (None, None))\n",
      "dbscan_eps: 10\n",
      "dbscan_min_samples: 3\n",
      "min_picks_per_eq: 5\n",
      "min_p_picks_per_eq: 0\n",
      "min_s_picks_per_eq: 0\n",
      "max_sigma11: 2.0\n",
      "max_sigma22: 1.0\n",
      "max_sigma12: 1.0\n",
      "Associating 114 clusters with 3 CPUs\n",
      "...............................\n",
      "Associated 100 events\n",
      "........................\n",
      "Associated 200 events\n",
      "..............................\n",
      "Initialization 1 did not converge.\n",
      "\n",
      "Associated 300 events\n",
      "....................\n",
      "Associated 400 events\n",
      "........."
     ]
    }
   ],
   "source": [
    "run(root_path, \"run_gamma.py\")"
   ]
  },
  {
   "cell_type": "markdown",
   "metadata": {},
   "source": [
    "### Visualization"
   ]
  },
  {
   "cell_type": "markdown",
   "metadata": {},
   "source": []
  },
  {
   "cell_type": "markdown",
   "metadata": {},
   "source": []
  }
 ],
 "metadata": {
  "kernelspec": {
   "display_name": "base",
   "language": "python",
   "name": "python3"
  },
  "language_info": {
   "codemirror_mode": {
    "name": "ipython",
    "version": 3
   },
   "file_extension": ".py",
   "mimetype": "text/x-python",
   "name": "python",
   "nbconvert_exporter": "python",
   "pygments_lexer": "ipython3",
   "version": "3.10.8"
  },
  "orig_nbformat": 4
 },
 "nbformat": 4,
 "nbformat_minor": 2
}
