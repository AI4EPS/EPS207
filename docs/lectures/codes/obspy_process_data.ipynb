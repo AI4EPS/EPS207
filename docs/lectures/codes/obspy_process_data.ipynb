{
 "cells": [
  {
   "cell_type": "markdown",
   "metadata": {},
   "source": [
    "# Seismic Signal Processing with ObsPy"
   ]
  },
  {
   "cell_type": "markdown",
   "metadata": {},
   "source": [
    "## Fourier Transform and Power Spectral Densities\n",
    "\n",
    "[Probabilistic Power Spectral Densities](https://docs.obspy.org/tutorial/code_snippets/probabilistic_power_spectral_density.html)"
   ]
  },
  {
   "cell_type": "code",
   "execution_count": 1,
   "metadata": {},
   "outputs": [
    {
     "ename": "ModuleNotFoundError",
     "evalue": "No module named 'obspy'",
     "output_type": "error",
     "traceback": [
      "\u001b[0;31m---------------------------------------------------------------------------\u001b[0m",
      "\u001b[0;31mModuleNotFoundError\u001b[0m                       Traceback (most recent call last)",
      "\u001b[1;32m/workspaces/EPS207_Observational_Seismology/docs/lectures/codes/obspy_process_data.ipynb Cell 3\u001b[0m line \u001b[0;36m1\n\u001b[0;32m----> <a href='vscode-notebook-cell://codespaces%2Bvigilant-train-w4rg7g4pp7q2gj59/workspaces/EPS207_Observational_Seismology/docs/lectures/codes/obspy_process_data.ipynb#W2sdnNjb2RlLXJlbW90ZQ%3D%3D?line=0'>1</a>\u001b[0m \u001b[39mimport\u001b[39;00m \u001b[39mobspy\u001b[39;00m\n\u001b[1;32m      <a href='vscode-notebook-cell://codespaces%2Bvigilant-train-w4rg7g4pp7q2gj59/workspaces/EPS207_Observational_Seismology/docs/lectures/codes/obspy_process_data.ipynb#W2sdnNjb2RlLXJlbW90ZQ%3D%3D?line=1'>2</a>\u001b[0m \u001b[39mfrom\u001b[39;00m \u001b[39mobspy\u001b[39;00m \u001b[39mimport\u001b[39;00m read\n\u001b[1;32m      <a href='vscode-notebook-cell://codespaces%2Bvigilant-train-w4rg7g4pp7q2gj59/workspaces/EPS207_Observational_Seismology/docs/lectures/codes/obspy_process_data.ipynb#W2sdnNjb2RlLXJlbW90ZQ%3D%3D?line=2'>3</a>\u001b[0m \u001b[39mfrom\u001b[39;00m \u001b[39mobspy\u001b[39;00m\u001b[39m.\u001b[39;00m\u001b[39mio\u001b[39;00m\u001b[39m.\u001b[39;00m\u001b[39mxseed\u001b[39;00m \u001b[39mimport\u001b[39;00m Parser\n",
      "\u001b[0;31mModuleNotFoundError\u001b[0m: No module named 'obspy'"
     ]
    }
   ],
   "source": [
    "import obspy\n",
    "from obspy import read\n",
    "from obspy.io.xseed import Parser\n",
    "from obspy.signal import PPSD\n",
    "from obspy import read_inventory\n",
    "from obspy.imaging.cm import pqlx\n",
    "import numpy as np\n",
    "import matplotlib.pyplot as plt\n",
    "import numpy as np\n",
    "import matplotlib.pyplot as plt\n",
    "from scipy.signal import cwt, morlet, hilbert, stft\n"
   ]
  },
  {
   "cell_type": "markdown",
   "metadata": {},
   "source": [
    "### Frequency of earthquakes"
   ]
  },
  {
   "cell_type": "code",
   "execution_count": null,
   "metadata": {},
   "outputs": [],
   "source": [
    "st = obspy.read()\n",
    "st.remove_sensitivity()\n",
    "tr = st[0]\n",
    "tr.plot();"
   ]
  },
  {
   "cell_type": "code",
   "execution_count": null,
   "metadata": {},
   "outputs": [],
   "source": [
    "p, f = tr.data, tr.stats.sampling_rate\n",
    "psd = np.abs(np.fft.fft(p))**2\n",
    "freq = np.fft.fftfreq(p.size, d=1./f)\n",
    "\n",
    "# Only consider positive frequencies for plotting\n",
    "mask = freq > 0\n",
    "psd, freq = psd[mask], freq[mask]\n",
    "psd = 10. * np.log10(psd) # Convert to dB\n",
    "\n",
    "plt.figure(figsize=(8, 4))\n",
    "plt.semilogx(freq, psd)\n",
    "plt.xlabel(\"Frequency (Hz)\")\n",
    "plt.ylabel(\"Power\")\n",
    "plt.tight_layout()\n",
    "plt.show()"
   ]
  },
  {
   "cell_type": "code",
   "execution_count": null,
   "metadata": {},
   "outputs": [],
   "source": [
    "starttime = tr.stats.starttime\n",
    "end_time = tr.stats.endtime\n",
    "mid_time = starttime + (end_time - starttime)/2\n",
    "tr_eq = tr.slice(starttime=starttime, endtime=mid_time)\n",
    "tr_ns = tr.slice(starttime=mid_time, endtime=end_time)\n",
    "tr_eq.plot();\n",
    "tr_ns.plot();"
   ]
  },
  {
   "cell_type": "code",
   "execution_count": null,
   "metadata": {},
   "outputs": [],
   "source": [
    "p_eq, f_eq = tr_eq.data, tr_eq.stats.sampling_rate\n",
    "psd_eq = np.abs(np.fft.fft(p_eq))**2\n",
    "freq_eq = np.fft.fftfreq(p_eq.size, d=1./f_eq)\n",
    "\n",
    "p_ns, f_ns = tr_ns.data, tr_ns.stats.sampling_rate\n",
    "psd_ns = np.abs(np.fft.fft(p_ns))**2\n",
    "freq_ns = np.fft.fftfreq(p_ns.size, d=1./f_ns)\n",
    "\n",
    "mask_eq = freq_eq > 0\n",
    "psd_eq, freq_eq = psd_eq[mask_eq], freq_eq[mask_eq]\n",
    "mask_ns = freq_ns > 0\n",
    "psd_ns, freq_ns = psd_ns[mask_ns], freq_ns[mask_ns]\n",
    "\n",
    "psd_eq = 10. * np.log10(psd_eq) \n",
    "psd_ns = 10. * np.log10(psd_ns)\n",
    "\n",
    "plt.figure(figsize=(8, 4))\n",
    "plt.semilogx(freq_eq, psd_eq, label='Earthquake')\n",
    "plt.semilogx(freq_ns, psd_ns, label='Noise')\n",
    "plt.xlabel(\"Frequency (Hz)\")\n",
    "# plt.xlabel(\"Period (s)\")\n",
    "plt.ylabel(\"Power\")\n",
    "plt.legend()\n",
    "plt.tight_layout()\n",
    "plt.show()\n"
   ]
  },
  {
   "cell_type": "markdown",
   "metadata": {},
   "source": [
    "### PSD of ambient noise"
   ]
  },
  {
   "cell_type": "code",
   "execution_count": null,
   "metadata": {},
   "outputs": [],
   "source": [
    "st = read(\"https://examples.obspy.org/BW.KW1..EHZ.D.2011.037\")\n",
    "tr = st.select(id=\"BW.KW1..EHZ\")[0]\n",
    "inv = read_inventory(\"https://examples.obspy.org/BW_KW1.xml\")"
   ]
  },
  {
   "cell_type": "code",
   "execution_count": null,
   "metadata": {},
   "outputs": [],
   "source": [
    "tr.plot();"
   ]
  },
  {
   "cell_type": "code",
   "execution_count": null,
   "metadata": {},
   "outputs": [],
   "source": [
    "ppsd = PPSD(tr.stats, metadata=inv)\n",
    "ppsd.add(st)"
   ]
  },
  {
   "cell_type": "code",
   "execution_count": null,
   "metadata": {},
   "outputs": [],
   "source": [
    "ppsd.plot(cmap=pqlx);"
   ]
  },
  {
   "cell_type": "markdown",
   "metadata": {},
   "source": [
    "### [Reading: Microseism](https://en.wikipedia.org/wiki/Microseism)\n",
    "![](https://upload.wikimedia.org/wikipedia/commons/5/5c/ANMO_20_years.jpg)"
   ]
  },
  {
   "cell_type": "markdown",
   "metadata": {},
   "source": [
    "## Filtering"
   ]
  },
  {
   "cell_type": "code",
   "execution_count": null,
   "metadata": {},
   "outputs": [],
   "source": [
    "st = obspy.read()\n",
    "tr = st[0]\n",
    "tr.plot(title=\"Original Data\");"
   ]
  },
  {
   "cell_type": "markdown",
   "metadata": {},
   "source": [
    "- High pass filter"
   ]
  },
  {
   "cell_type": "code",
   "execution_count": null,
   "metadata": {},
   "outputs": [],
   "source": [
    "tr_highpass = tr.copy()\n",
    "tr_highpass.filter('highpass', freq=1.0, corners=2, zerophase=True)\n",
    "tr_highpass.plot(title=\"Highpass Filtered Data\");"
   ]
  },
  {
   "cell_type": "markdown",
   "metadata": {},
   "source": [
    "- TODO: Low pass filter"
   ]
  },
  {
   "cell_type": "code",
   "execution_count": null,
   "metadata": {},
   "outputs": [],
   "source": [
    "tr_lowpass = tr.copy()"
   ]
  },
  {
   "cell_type": "markdown",
   "metadata": {},
   "source": [
    "- TODO: Band pass filter"
   ]
  },
  {
   "cell_type": "code",
   "execution_count": null,
   "metadata": {},
   "outputs": [],
   "source": [
    "tr_bandpass = tr.copy()"
   ]
  },
  {
   "cell_type": "markdown",
   "metadata": {},
   "source": [
    "## Spectrogram"
   ]
  },
  {
   "cell_type": "code",
   "execution_count": null,
   "metadata": {},
   "outputs": [],
   "source": [
    "st = obspy.read()\n",
    "tr = st[0]\n",
    "tr.spectrogram(log=True, title=\"Spectrogram\", dbscale=True, show=True, cmap='viridis');"
   ]
  },
  {
   "cell_type": "code",
   "execution_count": null,
   "metadata": {},
   "outputs": [],
   "source": [
    "tr.spectrogram(log=False, title=\"Spectrogram\", dbscale=True, show=True, cmap='viridis');"
   ]
  },
  {
   "cell_type": "markdown",
   "metadata": {},
   "source": [
    "### Using STFT (Short Time Fourier Transform)\n",
    "\n",
    "Note:\n",
    "\n",
    "**nperseg** is the length of each segment.\n",
    "\n",
    "**noverlap** is the number of points to overlap between segments."
   ]
  },
  {
   "cell_type": "code",
   "execution_count": null,
   "metadata": {},
   "outputs": [],
   "source": [
    "st = obspy.read()\n",
    "tr = st[0]\n",
    "\n",
    "# Compute the STFT\n",
    "frequencies, times, Zxx = stft(tr.data, fs=tr.stats.sampling_rate, nperseg=128, noverlap=127)\n",
    "\n",
    "# Convert to dB\n",
    "Zxx_dB = 10. * np.log10(np.abs(Zxx))\n",
    "\n",
    "plt.figure()\n",
    "plt.pcolormesh(times, frequencies, Zxx_dB, shading='auto', cmap='viridis')\n",
    "plt.title('STFT Magnitude in dB')\n",
    "plt.ylabel('Frequency [Hz]')\n",
    "plt.xlabel('Time [s]')\n",
    "plt.colorbar(label='dB')\n",
    "plt.ylim([0, 50])  # Limit frequency range for display\n",
    "plt.show()"
   ]
  },
  {
   "cell_type": "markdown",
   "metadata": {},
   "source": [
    "- TODO: Change the values of nperseg and noverlap to see the effect."
   ]
  },
  {
   "cell_type": "markdown",
   "metadata": {},
   "source": [
    "- TODO: Visualize the spectrogram after filtering"
   ]
  },
  {
   "cell_type": "markdown",
   "metadata": {},
   "source": [
    "### Further Reading: Using Wavelet Transform for time-frequency analysis\n",
    "\n",
    "[Wavelet Transform](https://en.wikipedia.org/wiki/Wavelet_transform)"
   ]
  },
  {
   "cell_type": "code",
   "execution_count": null,
   "metadata": {},
   "outputs": [],
   "source": [
    "# Define a range of desired center frequencies (in Hz)\n",
    "desired_frequencies = np.linspace(1, 50, 100)  # Example: 100 frequencies between 1 Hz and 50 Hz\n",
    "\n",
    "# Compute the associated wavelet widths for these frequencies\n",
    "dt = tr.stats.delta\n",
    "widths = np.round(2 / (desired_frequencies * dt)).astype(int)\n",
    "\n",
    "# Compute the CWT using the Morlet wavelet\n",
    "cwt_matrix = cwt(tr.data, morlet, widths)\n",
    "\n",
    "# Convert to magnitude for visualization\n",
    "cwt_magnitude = np.abs(cwt_matrix)\n",
    "\n",
    "plt.imshow(cwt_magnitude, extent=[0, tr.stats.endtime - tr.stats.starttime, desired_frequencies[0], desired_frequencies[-1]], aspect='auto', origin='lower', cmap='jet')\n",
    "plt.colorbar(label='Magnitude')\n",
    "plt.title('Continuous Wavelet Transform (CWT)')\n",
    "plt.xlabel('Time [s]')\n",
    "plt.ylabel('Frequency [Hz]')\n",
    "plt.yscale('log')  # Logarithmic frequency scale can often be more informative\n",
    "plt.show()"
   ]
  },
  {
   "cell_type": "markdown",
   "metadata": {},
   "source": [
    "### Seismogram Envelopes"
   ]
  },
  {
   "cell_type": "code",
   "execution_count": null,
   "metadata": {},
   "outputs": [],
   "source": [
    "st = obspy.read()\n",
    "tr = st[0]\n",
    "\n",
    "tr_filt = tr.copy()\n",
    "tr_filt.filter('bandpass', freqmin=1, freqmax=3, corners=2, zerophase=True)\n",
    "\n",
    "data_envelope = obspy.signal.filter.envelope(tr_filt.data)\n",
    "\n",
    "t = np.arange(0, tr.stats.npts / tr.stats.sampling_rate, 1 / tr.stats.sampling_rate)\n",
    "plt.plot(t, tr_filt.data, 'k')\n",
    "plt.plot(t, data_envelope, 'k:')\n",
    "plt.ylabel('Filtered Data w/ Envelope')\n",
    "plt.xlabel('Time [s]')\n",
    "plt.xlim(4, 10)\n",
    "plt.show()"
   ]
  },
  {
   "cell_type": "markdown",
   "metadata": {},
   "source": [
    "### Using Hilbert Transform"
   ]
  },
  {
   "cell_type": "code",
   "execution_count": null,
   "metadata": {},
   "outputs": [],
   "source": [
    "analytic_signal = hilbert(tr_filt.data)\n",
    "envelope = np.abs(analytic_signal)\n",
    "\n",
    "plt.figure()\n",
    "plt.plot(t, tr_filt.data, label=\"Original Seismogram\", color='blue')\n",
    "plt.plot(t, envelope, label=\"Envelope\", color='red', linewidth=2)\n",
    "plt.xlabel(\"Time [s]\")\n",
    "plt.ylabel(\"Amplitude\")\n",
    "plt.title(\"Seismogram and its Envelope\")\n",
    "plt.legend()\n",
    "plt.xlim(4, 10)\n",
    "plt.show()"
   ]
  },
  {
   "cell_type": "code",
   "execution_count": null,
   "metadata": {},
   "outputs": [],
   "source": []
  }
 ],
 "metadata": {
  "kernelspec": {
   "display_name": "base",
   "language": "python",
   "name": "python3"
  },
  "language_info": {
   "codemirror_mode": {
    "name": "ipython",
    "version": 3
   },
   "file_extension": ".py",
   "mimetype": "text/x-python",
   "name": "python",
   "nbconvert_exporter": "python",
   "pygments_lexer": "ipython3",
   "version": "3.10.8"
  },
  "orig_nbformat": 4
 },
 "nbformat": 4,
 "nbformat_minor": 2
}
