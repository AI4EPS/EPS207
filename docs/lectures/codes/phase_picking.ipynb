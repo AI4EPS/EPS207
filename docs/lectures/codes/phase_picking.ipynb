{
 "cells": [
  {
   "cell_type": "markdown",
   "metadata": {},
   "source": [
    "# Phase Picking"
   ]
  },
  {
   "cell_type": "code",
   "execution_count": 26,
   "metadata": {},
   "outputs": [],
   "source": [
    "import os\n",
    "root_path = \"./QuakeFlow/slurm/\"\n",
    "def run(root_path, script):\n",
    "    cmd = f\"cd {root_path} && python {script}\"\n",
    "    print(cmd)\n",
    "    os.system(cmd)"
   ]
  },
  {
   "cell_type": "markdown",
   "metadata": {},
   "source": [
    "### Set configuration parameters\n",
    "\n",
    "**Edit the [config.json](./QuakeFlow/slurm/config.json) file to add parameters of studying region**\n",
    "\n",
    "**Edit the [set_config.py](./QuakeFlow/slurm/set_config.py) file to select the studying region**"
   ]
  },
  {
   "cell_type": "code",
   "execution_count": 27,
   "metadata": {},
   "outputs": [
    {
     "name": "stdout",
     "output_type": "stream",
     "text": [
      "cd ./QuakeFlow/slurm/ && python set_config.py\n",
      "{\n",
      "    \"num_nodes\": 1,\n",
      "    \"degree2km\": 111.1949,\n",
      "    \"channel\": \"HH*,BH*,EH*,HN*\",\n",
      "    \"level\": \"response\",\n",
      "    \"longitude0\": -117.504,\n",
      "    \"latitude0\": 35.705,\n",
      "    \"maxradius_degree\": 0.5,\n",
      "    \"minlatitude\": 35.205,\n",
      "    \"maxlatitude\": 36.205,\n",
      "    \"minlongitude\": -118.004,\n",
      "    \"maxlongitude\": -117.004,\n",
      "    \"starttime\": \"2019-07-04T17:00:00\",\n",
      "    \"endtime\": \"2019-07-04T19:00:00\",\n",
      "    \"provider\": [\n",
      "        \"SCEDC\",\n",
      "        \"IRIS\"\n",
      "    ],\n",
      "    \"network\": \"CI\"\n",
      "}\n"
     ]
    }
   ],
   "source": [
    "run(root_path, \"set_config.py\")"
   ]
  },
  {
   "cell_type": "markdown",
   "metadata": {},
   "source": [
    "### Download stations and events\n",
    "\n",
    "**Edit the [download_station.py](./QuakeFlow/slurm/download_station.py) file to select the studying region**\n",
    "\n",
    "**Edit the [download_catalog.py](./QuakeFlow/slurm/download_catalog.py) file to select the studying region**"
   ]
  },
  {
   "cell_type": "code",
   "execution_count": 24,
   "metadata": {},
   "outputs": [
    {
     "name": "stdout",
     "output_type": "stream",
     "text": [
      "cd ./QuakeFlow/slurm/ && python download_station.py\n",
      "{\n",
      "    \"num_nodes\": 1,\n",
      "    \"degree2km\": 111.1949,\n",
      "    \"channel\": \"HH*,BH*,EH*,HN*\",\n",
      "    \"level\": \"response\",\n",
      "    \"longitude0\": -117.504,\n",
      "    \"latitude0\": 35.705,\n",
      "    \"maxradius_degree\": 0.5,\n",
      "    \"minlatitude\": 35.205,\n",
      "    \"maxlatitude\": 36.205,\n",
      "    \"minlongitude\": -118.004,\n",
      "    \"maxlongitude\": -117.004,\n",
      "    \"starttime\": \"2019-07-04T17:00:00\",\n",
      "    \"endtime\": \"2019-07-04T19:00:00\",\n",
      "    \"provider\": [\n",
      "        \"SCEDC\",\n",
      "        \"IRIS\"\n",
      "    ],\n",
      "    \"network\": \"CI\"\n",
      "}\n",
      "Downloading station response...\n",
      "Parse 150 channels of SCEDC into csv\n",
      "Parse 52 stations of SCEDC into json\n",
      "Parse 150 channels of IRIS into csv\n",
      "Parse 52 stations of IRIS into json\n",
      "Merged 150 channels\n",
      "Merged 52 stations\n",
      "cd ./QuakeFlow/slurm/ && python download_catalog.py\n",
      "{\n",
      "    \"num_nodes\": 1,\n",
      "    \"degree2km\": 111.1949,\n",
      "    \"channel\": \"HH*,BH*,EH*,HN*\",\n",
      "    \"level\": \"response\",\n",
      "    \"longitude0\": -117.504,\n",
      "    \"latitude0\": 35.705,\n",
      "    \"maxradius_degree\": 0.5,\n",
      "    \"minlatitude\": 35.205,\n",
      "    \"maxlatitude\": 36.205,\n",
      "    \"minlongitude\": -118.004,\n",
      "    \"maxlongitude\": -117.004,\n",
      "    \"starttime\": \"2019-07-04T17:00:00\",\n",
      "    \"endtime\": \"2019-07-04T19:00:00\",\n",
      "    \"provider\": [\n",
      "        \"SCEDC\",\n",
      "        \"IRIS\"\n",
      "    ],\n",
      "    \"network\": \"CI\"\n",
      "}\n",
      "Downloading standard catalog...\n",
      "Dowloaded 252 events from scedc\n",
      "Dowloaded 77 events from iris\n"
     ]
    },
    {
     "data": {
      "text/plain": [
       "0"
      ]
     },
     "execution_count": 24,
     "metadata": {},
     "output_type": "execute_result"
    }
   ],
   "source": [
    "run(root_path, \"download_station.py\")\n",
    "\n",
    "run(root_path, \"download_catalog.py\")"
   ]
  },
  {
   "cell_type": "markdown",
   "metadata": {},
   "source": [
    "### Download continuous waveform data\n",
    "\n",
    "**Edit the [download_waveform_v2.py](./QuakeFlow/slurm/download_waveform_v2.py) file to select the studying region**"
   ]
  },
  {
   "cell_type": "code",
   "execution_count": 25,
   "metadata": {},
   "outputs": [
    {
     "name": "stdout",
     "output_type": "stream",
     "text": [
      "cd ./QuakeFlow/slurm/ && python download_waveform_v2.py\n",
      "Downloading 2019-07-04T17-2019-07-04T18 CI.CCC..BH.mseed\n",
      "Downloading 2019-07-04T18-2019-07-04T19 CI.CCC..BH.mseed\n",
      "Downloading 2019-07-04T17-2019-07-04T18 CI.CCC..HH.mseed\n",
      "Downloading 2019-07-04T18-2019-07-04T19 CI.CCC..HH.mseed\n",
      "Downloading 2019-07-04T17-2019-07-04T18 CI.CCC..HN.mseed\n",
      "Downloading 2019-07-04T18-2019-07-04T19 CI.CCC..HN.mseed\n",
      "Downloading 2019-07-04T17-2019-07-04T18 CI.CLC..BH.mseed\n",
      "Downloading 2019-07-04T18-2019-07-04T19 CI.CLC..BH.mseed\n",
      "Downloading 2019-07-04T17-2019-07-04T18 CI.CLC..HH.mseed\n",
      "Downloading 2019-07-04T18-2019-07-04T19 CI.CLC..HH.mseed\n",
      "Downloading 2019-07-04T17-2019-07-04T18 CI.CLC..HN.mseed\n",
      "Downloading 2019-07-04T17-2019-07-04T18 CI.DTP..BH.mseed\n",
      "Downloading 2019-07-04T17-2019-07-04T18 CI.DTP..HH.mseed\n",
      "Downloading 2019-07-04T17-2019-07-04T18 CI.DTP..HN.mseed\n",
      "Downloading 2019-07-04T17-2019-07-04T18 CI.JRC2..BH.mseed\n",
      "Downloading 2019-07-04T17-2019-07-04T18 CI.JRC2..HH.mseed\n",
      "Downloading 2019-07-04T17-2019-07-04T18 CI.JRC2..HN.mseed\n",
      "Downloading 2019-07-04T17-2019-07-04T18 CI.LRL..BH.mseed\n",
      "Downloading 2019-07-04T17-2019-07-04T18 CI.LRL..HH.mseed\n",
      "Downloading 2019-07-04T18-2019-07-04T19 CI.CLC..HN.mseed\n",
      "Downloading 2019-07-04T18-2019-07-04T19 CI.DTP..BH.mseed\n",
      "Downloading 2019-07-04T18-2019-07-04T19 CI.DTP..HH.mseed\n",
      "Downloading 2019-07-04T18-2019-07-04T19 CI.DTP..HN.mseed\n",
      "Downloading 2019-07-04T18-2019-07-04T19 CI.JRC2..BH.mseed\n",
      "Downloading 2019-07-04T18-2019-07-04T19 CI.JRC2..HH.mseed\n",
      "Downloading 2019-07-04T18-2019-07-04T19 CI.JRC2..HN.mseed\n",
      "Downloading 2019-07-04T18-2019-07-04T19 CI.LRL..BH.mseed\n",
      "Downloading 2019-07-04T18-2019-07-04T19 CI.LRL..HH.mseed\n",
      "Downloading 2019-07-04T18-2019-07-04T19 CI.LRL..HN.mseed\n",
      "Downloading 2019-07-04T18-2019-07-04T19 CI.LRL.2C.HN.mseed\n",
      "Downloading 2019-07-04T17-2019-07-04T18 CI.LRL..HN.mseed\n",
      "No data available for request: CI.LRL.2C.HN\n",
      "Downloading 2019-07-04T18-2019-07-04T19 CI.MPM..BH.mseed\n",
      "Downloading 2019-07-04T17-2019-07-04T18 CI.LRL.2C.HN.mseed\n",
      "No data available for request: CI.LRL.2C.HN\n",
      "Downloading 2019-07-04T17-2019-07-04T18 CI.MPM..BH.mseed\n",
      "Downloading 2019-07-04T17-2019-07-04T18 CI.MPM..HH.mseed\n",
      "Downloading 2019-07-04T17-2019-07-04T18 CI.MPM..HN.mseed\n",
      "Downloading 2019-07-04T17-2019-07-04T18 CI.Q0072.01.HN.mseed\n",
      "No data available for request: CI.Q0072.01.HN\n",
      "Downloading 2019-07-04T17-2019-07-04T18 CI.SLA..BH.mseed\n",
      "Downloading 2019-07-04T17-2019-07-04T18 CI.SLA..HH.mseed\n",
      "Downloading 2019-07-04T17-2019-07-04T18 CI.SLA..HN.mseed\n",
      "Downloading 2019-07-04T17-2019-07-04T18 CI.SRT..BH.mseed\n",
      "Downloading 2019-07-04T17-2019-07-04T18 CI.SRT..HH.mseed\n",
      "Downloading 2019-07-04T17-2019-07-04T18 CI.SRT..HN.mseed\n",
      "Downloading 2019-07-04T17-2019-07-04T18 CI.TOW2..BH.mseed\n",
      "Downloading 2019-07-04T17-2019-07-04T18 CI.TOW2..HH.mseed\n",
      "Downloading 2019-07-04T17-2019-07-04T18 CI.TOW2..HN.mseed\n",
      "Downloading 2019-07-04T17-2019-07-04T18 CI.WBM..BH.mseed\n",
      "Downloading 2019-07-04T17-2019-07-04T18 CI.WBM..HH.mseed\n",
      "Downloading 2019-07-04T17-2019-07-04T18 CI.WBM..HN.mseed\n",
      "Downloading 2019-07-04T17-2019-07-04T18 CI.WBM.2C.HN.mseed\n",
      "No data available for request: CI.WBM.2C.HN\n",
      "Downloading 2019-07-04T17-2019-07-04T18 CI.WCS2..BH.mseed\n",
      "Downloading 2019-07-04T17-2019-07-04T18 CI.WCS2..HH.mseed\n",
      "Downloading 2019-07-04T17-2019-07-04T18 CI.WCS2..HN.mseed\n",
      "Downloading 2019-07-04T17-2019-07-04T18 CI.WMF..BH.mseed\n",
      "Downloading 2019-07-04T17-2019-07-04T18 CI.WMF..HH.mseed\n",
      "Downloading 2019-07-04T17-2019-07-04T18 CI.WMF..HN.mseed\n",
      "Downloading 2019-07-04T17-2019-07-04T18 CI.WMF.2C.HN.mseed\n",
      "No data available for request: CI.WMF.2C.HN\n",
      "Downloading 2019-07-04T17-2019-07-04T18 CI.WNM..EH.mseed\n",
      "Downloading 2019-07-04T17-2019-07-04T18 CI.WNM..HN.mseed\n",
      "Downloading 2019-07-04T17-2019-07-04T18 CI.WNM.2C.HN.mseed\n",
      "No data available for request: CI.WNM.2C.HN\n",
      "Downloading 2019-07-04T17-2019-07-04T18 CI.WRC2..BH.mseed\n",
      "Downloading 2019-07-04T17-2019-07-04T18 CI.WRC2..HH.mseed\n",
      "Downloading 2019-07-04T17-2019-07-04T18 CI.WRC2..HN.mseed\n",
      "Downloading 2019-07-04T17-2019-07-04T18 CI.WRV2..EH.mseed\n",
      "Downloading 2019-07-04T17-2019-07-04T18 CI.WRV2..HN.mseed\n",
      "Downloading 2019-07-04T18-2019-07-04T19 CI.MPM..HH.mseed\n",
      "Downloading 2019-07-04T18-2019-07-04T19 CI.MPM..HN.mseed\n",
      "Downloading 2019-07-04T18-2019-07-04T19 CI.Q0072.01.HN.mseed\n",
      "No data available for request: CI.Q0072.01.HN\n",
      "Downloading 2019-07-04T18-2019-07-04T19 CI.SLA..BH.mseed\n",
      "Downloading 2019-07-04T18-2019-07-04T19 CI.SLA..HH.mseed\n",
      "Downloading 2019-07-04T18-2019-07-04T19 CI.SLA..HN.mseed\n",
      "Downloading 2019-07-04T18-2019-07-04T19 CI.SRT..BH.mseed\n",
      "Downloading 2019-07-04T18-2019-07-04T19 CI.SRT..HH.mseed\n",
      "Downloading 2019-07-04T18-2019-07-04T19 CI.SRT..HN.mseed\n",
      "Downloading 2019-07-04T18-2019-07-04T19 CI.TOW2..BH.mseed\n",
      "Downloading 2019-07-04T18-2019-07-04T19 CI.TOW2..HH.mseed\n",
      "Downloading 2019-07-04T18-2019-07-04T19 CI.TOW2..HN.mseed\n",
      "Downloading 2019-07-04T18-2019-07-04T19 CI.WBM..BH.mseed\n",
      "Downloading 2019-07-04T18-2019-07-04T19 CI.WBM..HH.mseed\n",
      "Downloading 2019-07-04T18-2019-07-04T19 CI.WBM..HN.mseed\n",
      "Downloading 2019-07-04T18-2019-07-04T19 CI.WBM.2C.HN.mseed\n",
      "Downloading 2019-07-04T17-2019-07-04T18 CI.WRV2.2C.HN.mseed\n",
      "No data available for request: CI.WRV2.2C.HN\n",
      "Downloading 2019-07-04T17-2019-07-04T18 CI.WVP2..EH.mseed\n",
      "Downloading 2019-07-04T17-2019-07-04T18 CI.WVP2..HN.mseed\n",
      "Downloading 2019-07-04T17-2019-07-04T18 CI.WVP2.2C.HN.mseed\n",
      "No data available for request: CI.WVP2.2C.HN\n",
      "No data available for request: CI.WBM.2C.HN\n",
      "Downloading 2019-07-04T18-2019-07-04T19 CI.WCS2..BH.mseed\n",
      "Downloading 2019-07-04T18-2019-07-04T19 CI.WCS2..HH.mseed\n",
      "Downloading 2019-07-04T18-2019-07-04T19 CI.WCS2..HN.mseed\n",
      "Downloading 2019-07-04T18-2019-07-04T19 CI.WMF..BH.mseed\n",
      "Downloading 2019-07-04T18-2019-07-04T19 CI.WMF..HH.mseed\n",
      "Downloading 2019-07-04T18-2019-07-04T19 CI.WMF..HN.mseed\n",
      "Downloading 2019-07-04T18-2019-07-04T19 CI.WMF.2C.HN.mseed\n",
      "No data available for request: CI.WMF.2C.HN\n",
      "Downloading 2019-07-04T18-2019-07-04T19 CI.WNM..EH.mseed\n",
      "Downloading 2019-07-04T18-2019-07-04T19 CI.WNM..HN.mseed\n",
      "Downloading 2019-07-04T18-2019-07-04T19 CI.WNM.2C.HN.mseed\n",
      "No data available for request: CI.WNM.2C.HN\n",
      "Downloading 2019-07-04T18-2019-07-04T19 CI.WRC2..BH.mseed\n",
      "Downloading 2019-07-04T18-2019-07-04T19 CI.WRC2..HH.mseed\n",
      "Downloading 2019-07-04T18-2019-07-04T19 CI.WRC2..HN.mseed\n",
      "Downloading 2019-07-04T18-2019-07-04T19 CI.WRV2..EH.mseed\n",
      "Downloading 2019-07-04T18-2019-07-04T19 CI.WRV2..HN.mseed\n",
      "Downloading 2019-07-04T18-2019-07-04T19 CI.WRV2.2C.HN.mseed\n",
      "No data available for request: CI.WRV2.2C.HN\n",
      "Downloading 2019-07-04T18-2019-07-04T19 CI.WVP2..EH.mseed\n",
      "Downloading 2019-07-04T18-2019-07-04T19 CI.WVP2..HN.mseed\n",
      "Downloading 2019-07-04T18-2019-07-04T19 CI.WVP2.2C.HN.mseed\n",
      "No data available for request: CI.WVP2.2C.HN\n"
     ]
    },
    {
     "data": {
      "text/plain": [
       "0"
      ]
     },
     "execution_count": 25,
     "metadata": {},
     "output_type": "execute_result"
    }
   ],
   "source": [
    "run(root_path, \"download_waveform_v2.py\")"
   ]
  },
  {
   "cell_type": "markdown",
   "metadata": {},
   "source": [
    "### Run PhaseNet\n",
    "\n",
    "**Edit the [run_phasenet.py](./QuakeFlow/slurm/run_phasenet.py) file to select the studying region**"
   ]
  },
  {
   "cell_type": "code",
   "execution_count": 29,
   "metadata": {},
   "outputs": [
    {
     "name": "stdout",
     "output_type": "stream",
     "text": [
      "cd ./QuakeFlow/slurm/ && python run_phasenet.py\n"
     ]
    },
    {
     "name": "stderr",
     "output_type": "stream",
     "text": [
      "2023-10-01 16:26:59,499 Pred log: local/demo/phasenet\n",
      "2023-10-01 16:26:59,499 Dataset size: 90\n",
      "2023-10-01 16:26:59,550 Model: depths 5, filters 8, filter size 7x1, pool size: 4x1, dilation rate: 1x1\n",
      "2023-10-01 16:27:00.465901: I tensorflow/compiler/mlir/mlir_graph_optimization_pass.cc:375] MLIR V1 optimization pass is not enabled\n",
      "2023-10-01 16:27:00,605 restoring model ../PhaseNet//model/190703-214543/model_95.ckpt\n",
      "Pred:   0%|          | 0/90 [00:00<?, ?it/s]2023-10-01 16:27:01,066 Resampling CI.CCC..BHE from 40.0 to 100 Hz\n",
      "2023-10-01 16:27:01,675 Resampling CI.CCC..BHN from 40.0 to 100 Hz\n",
      "2023-10-01 16:27:01,685 Resampling CI.CCC..BHZ from 40.0 to 100 Hz\n",
      "2023-10-01 16:27:01,741 Resampling CI.CLC..BHE from 40.0 to 100 Hz\n",
      "2023-10-01 16:27:01,756 Resampling CI.CLC..BHN from 40.0 to 100 Hz\n",
      "2023-10-01 16:27:01,769 Resampling CI.CLC..BHZ from 40.0 to 100 Hz\n",
      "Pred:   1%|          | 1/90 [00:01<01:38,  1.11s/it]2023-10-01 16:27:01,899 Resampling CI.DTP..BHE from 40.0 to 100 Hz\n",
      "2023-10-01 16:27:01,909 Resampling CI.DTP..BHN from 40.0 to 100 Hz\n",
      "2023-10-01 16:27:01,919 Resampling CI.DTP..BHZ from 40.0 to 100 Hz\n",
      "Pred:   3%|▎         | 3/90 [00:01<00:29,  2.95it/s]2023-10-01 16:27:02,028 Resampling CI.JRC2..BHE from 40.0 to 100 Hz\n",
      "2023-10-01 16:27:02,037 Resampling CI.JRC2..BHN from 40.0 to 100 Hz\n",
      "2023-10-01 16:27:02,046 Resampling CI.JRC2..BHZ from 40.0 to 100 Hz\n",
      "Pred:   8%|▊         | 7/90 [00:01<00:11,  7.07it/s]2023-10-01 16:27:02,222 Resampling CI.LRL..BHE from 40.0 to 100 Hz\n",
      "2023-10-01 16:27:02,231 Resampling CI.LRL..BHN from 40.0 to 100 Hz\n",
      "2023-10-01 16:27:02,240 Resampling CI.LRL..BHZ from 40.0 to 100 Hz\n",
      "Pred:  10%|█         | 9/90 [00:01<00:09,  8.88it/s]2023-10-01 16:27:02,417 Resampling CI.MPM..BHE from 40.0 to 100 Hz\n",
      "2023-10-01 16:27:02,426 Resampling CI.MPM..BHN from 40.0 to 100 Hz\n",
      "2023-10-01 16:27:02,435 Resampling CI.MPM..BHZ from 40.0 to 100 Hz\n",
      "Pred:  14%|█▍        | 13/90 [00:01<00:06, 11.57it/s]2023-10-01 16:27:02,621 Resampling CI.SLA..BHE from 40.0 to 100 Hz\n",
      "2023-10-01 16:27:02,633 Resampling CI.SLA..BHN from 40.0 to 100 Hz\n",
      "2023-10-01 16:27:02,643 Resampling CI.SLA..BHZ from 40.0 to 100 Hz\n",
      "Pred:  17%|█▋        | 15/90 [00:02<00:06, 12.46it/s]2023-10-01 16:27:02,822 Resampling CI.SRT..BHE from 40.0 to 100 Hz\n",
      "2023-10-01 16:27:02,831 Resampling CI.SRT..BHN from 40.0 to 100 Hz\n",
      "2023-10-01 16:27:02,840 Resampling CI.SRT..BHZ from 40.0 to 100 Hz\n",
      "Pred:  21%|██        | 19/90 [00:02<00:05, 13.63it/s]2023-10-01 16:27:03,020 Resampling CI.TOW2..BHE from 40.0 to 100 Hz\n",
      "2023-10-01 16:27:03,033 Resampling CI.TOW2..BHN from 40.0 to 100 Hz\n",
      "2023-10-01 16:27:03,044 Resampling CI.TOW2..BHZ from 40.0 to 100 Hz\n",
      "Pred:  23%|██▎       | 21/90 [00:02<00:05, 13.62it/s]2023-10-01 16:27:03,234 Resampling CI.WBM..BHE from 40.0 to 100 Hz\n",
      "2023-10-01 16:27:03,243 Resampling CI.WBM..BHN from 40.0 to 100 Hz\n",
      "2023-10-01 16:27:03,254 Resampling CI.WBM..BHZ from 40.0 to 100 Hz\n",
      "Pred:  28%|██▊       | 25/90 [00:02<00:04, 14.32it/s]2023-10-01 16:27:03,439 Resampling CI.WCS2..BHE from 40.0 to 100 Hz\n",
      "2023-10-01 16:27:03,449 Resampling CI.WCS2..BHN from 40.0 to 100 Hz\n",
      "2023-10-01 16:27:03,458 Resampling CI.WCS2..BHZ from 40.0 to 100 Hz\n",
      "Pred:  30%|███       | 27/90 [00:02<00:04, 14.41it/s]2023-10-01 16:27:03,641 Resampling CI.WMF..BHE from 40.0 to 100 Hz\n",
      "2023-10-01 16:27:03,651 Resampling CI.WMF..BHN from 40.0 to 100 Hz\n",
      "2023-10-01 16:27:03,662 Resampling CI.WMF..BHZ from 40.0 to 100 Hz\n",
      "Pred:  37%|███▋      | 33/90 [00:03<00:03, 14.70it/s]2023-10-01 16:27:03,984 Resampling CI.WRC2..BHE from 40.0 to 100 Hz\n",
      "2023-10-01 16:27:03,999 Resampling CI.WRC2..BHN from 40.0 to 100 Hz\n",
      "2023-10-01 16:27:04,012 Resampling CI.WRC2..BHZ from 40.0 to 100 Hz\n",
      "Pred:  43%|████▎     | 39/90 [00:03<00:03, 14.87it/s]2023-10-01 16:27:04,454 Resampling CI.CCC..BHE from 40.0 to 100 Hz\n",
      "2023-10-01 16:27:04,464 Resampling CI.CCC..BHN from 40.0 to 100 Hz\n",
      "2023-10-01 16:27:04,474 Resampling CI.CCC..BHZ from 40.0 to 100 Hz\n",
      "Pred:  48%|████▊     | 43/90 [00:03<00:03, 14.36it/s]2023-10-01 16:27:04,673 Resampling CI.CLC..BHE from 40.0 to 100 Hz\n",
      "2023-10-01 16:27:04,683 Resampling CI.CLC..BHN from 40.0 to 100 Hz\n",
      "2023-10-01 16:27:04,693 Resampling CI.CLC..BHZ from 40.0 to 100 Hz\n",
      "Pred:  50%|█████     | 45/90 [00:04<00:03, 13.05it/s]2023-10-01 16:27:04,934 Resampling CI.DTP..BHE from 40.0 to 100 Hz\n",
      "2023-10-01 16:27:04,944 Resampling CI.DTP..BHN from 40.0 to 100 Hz\n",
      "2023-10-01 16:27:04,953 Resampling CI.DTP..BHZ from 40.0 to 100 Hz\n",
      "Pred:  54%|█████▍    | 49/90 [00:04<00:03, 13.15it/s]2023-10-01 16:27:05,159 Resampling CI.JRC2..BHE from 40.0 to 100 Hz\n",
      "2023-10-01 16:27:05,169 Resampling CI.JRC2..BHN from 40.0 to 100 Hz\n",
      "2023-10-01 16:27:05,184 Resampling CI.JRC2..BHZ from 40.0 to 100 Hz\n",
      "Pred:  57%|█████▋    | 51/90 [00:04<00:02, 13.26it/s]2023-10-01 16:27:05,367 Resampling CI.LRL..BHE from 40.0 to 100 Hz\n",
      "2023-10-01 16:27:05,377 Resampling CI.LRL..BHN from 40.0 to 100 Hz\n",
      "2023-10-01 16:27:05,386 Resampling CI.LRL..BHZ from 40.0 to 100 Hz\n",
      "Pred:  61%|██████    | 55/90 [00:04<00:02, 13.57it/s]2023-10-01 16:27:05,592 Resampling CI.MPM..BHE from 40.0 to 100 Hz\n",
      "2023-10-01 16:27:05,603 Resampling CI.MPM..BHN from 40.0 to 100 Hz\n",
      "2023-10-01 16:27:05,612 Resampling CI.MPM..BHZ from 40.0 to 100 Hz\n",
      "Pred:  63%|██████▎   | 57/90 [00:05<00:02, 13.44it/s]2023-10-01 16:27:05,812 Resampling CI.SLA..BHE from 40.0 to 100 Hz\n",
      "2023-10-01 16:27:05,821 Resampling CI.SLA..BHN from 40.0 to 100 Hz\n",
      "2023-10-01 16:27:05,831 Resampling CI.SLA..BHZ from 40.0 to 100 Hz\n",
      "Pred:  68%|██████▊   | 61/90 [00:05<00:02, 13.81it/s]2023-10-01 16:27:06,029 Resampling CI.SRT..BHE from 40.0 to 100 Hz\n",
      "2023-10-01 16:27:06,045 Resampling CI.SRT..BHN from 40.0 to 100 Hz\n",
      "2023-10-01 16:27:06,054 Resampling CI.SRT..BHZ from 40.0 to 100 Hz\n",
      "Pred:  70%|███████   | 63/90 [00:05<00:02, 13.49it/s]2023-10-01 16:27:06,258 Resampling CI.TOW2..BHE from 40.0 to 100 Hz\n",
      "2023-10-01 16:27:06,268 Resampling CI.TOW2..BHN from 40.0 to 100 Hz\n",
      "2023-10-01 16:27:06,278 Resampling CI.TOW2..BHZ from 40.0 to 100 Hz\n",
      "Pred:  74%|███████▍  | 67/90 [00:05<00:01, 13.85it/s]2023-10-01 16:27:06,463 Resampling CI.WBM..BHE from 40.0 to 100 Hz\n",
      "2023-10-01 16:27:06,473 Resampling CI.WBM..BHN from 40.0 to 100 Hz\n",
      "2023-10-01 16:27:06,482 Resampling CI.WBM..BHZ from 40.0 to 100 Hz\n",
      "Pred:  77%|███████▋  | 69/90 [00:05<00:01, 13.78it/s]2023-10-01 16:27:06,680 Resampling CI.WCS2..BHE from 40.0 to 100 Hz\n",
      "2023-10-01 16:27:06,696 Resampling CI.WCS2..BHN from 40.0 to 100 Hz\n",
      "2023-10-01 16:27:06,704 Resampling CI.WCS2..BHZ from 40.0 to 100 Hz\n",
      "Pred:  81%|████████  | 73/90 [00:06<00:01, 13.74it/s]2023-10-01 16:27:06,900 Resampling CI.WMF..BHE from 40.0 to 100 Hz\n",
      "2023-10-01 16:27:06,910 Resampling CI.WMF..BHN from 40.0 to 100 Hz\n",
      "2023-10-01 16:27:06,919 Resampling CI.WMF..BHZ from 40.0 to 100 Hz\n",
      "Pred:  86%|████████▌ | 77/90 [00:06<00:00, 13.94it/s]2023-10-01 16:27:07,258 Resampling CI.WRC2..BHE from 40.0 to 100 Hz\n",
      "2023-10-01 16:27:07,268 Resampling CI.WRC2..BHN from 40.0 to 100 Hz\n",
      "2023-10-01 16:27:07,278 Resampling CI.WRC2..BHZ from 40.0 to 100 Hz\n",
      "Pred: 100%|██████████| 90/90 [00:07<00:00, 12.28it/s]\n"
     ]
    },
    {
     "name": "stdout",
     "output_type": "stream",
     "text": [
      "Done with 8706 P-picks and 9200 S-picks\n"
     ]
    }
   ],
   "source": [
    "run(root_path, \"run_phasenet.py\")"
   ]
  },
  {
   "cell_type": "markdown",
   "metadata": {},
   "source": [
    "### Visualize some picks"
   ]
  },
  {
   "cell_type": "markdown",
   "metadata": {},
   "source": []
  }
 ],
 "metadata": {
  "kernelspec": {
   "display_name": "base",
   "language": "python",
   "name": "python3"
  },
  "language_info": {
   "codemirror_mode": {
    "name": "ipython",
    "version": 3
   },
   "file_extension": ".py",
   "mimetype": "text/x-python",
   "name": "python",
   "nbconvert_exporter": "python",
   "pygments_lexer": "ipython3",
   "version": "3.11.4"
  },
  "orig_nbformat": 4
 },
 "nbformat": 4,
 "nbformat_minor": 2
}
